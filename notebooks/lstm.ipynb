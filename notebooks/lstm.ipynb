{
 "cells": [
  {
   "cell_type": "code",
   "execution_count": 2,
   "metadata": {},
   "outputs": [],
   "source": [
    "import sys\n",
    "sys.path.append('../src')\n",
    "from logger import log, debug\n",
    "from cleaner import clean_corpus_basic, clean_corpus_standford\n",
    "from reader import read_files\n",
    "from lstm_utils import get_tokenizer, get_best_tokens_dummy\n",
    "\n",
    "from sklearn.utils import shuffle\n",
    "\n",
    "from keras.layers import Dense, LSTM\n",
    "from keras.models import Model, Sequential\n",
    "\n",
    "import numpy as np\n",
    "import matplotlib.pyplot as plt\n",
    "\n"
   ]
  },
  {
   "cell_type": "code",
   "execution_count": 3,
   "metadata": {},
   "outputs": [],
   "source": [
    "# -------------- Hiperparametros -----------------\n",
    "\n",
    "vector_size = 8\n",
    "each_q = 128\n",
    "batch_size = 2000\n",
    "epoch = 256\n",
    "min_lenght, max_length = 4, 8\n",
    "train_to_test = 0.8"
   ]
  },
  {
   "cell_type": "code",
   "execution_count": 4,
   "metadata": {},
   "outputs": [
    {
     "name": "stdout",
     "output_type": "stream",
     "text": [
      "[Leyendo archivos en panda...]\n",
      "[Archivos Leidos...]\n",
      "[Usando cleaner basico]\n",
      "[Limpiando el corpus...]\n",
      "[Usando 8 threads ...]\n",
      "[El corpus tiene 20000 rows]\n",
      "[Luego de filtrar el corpus tiene 20000 rows]\n"
     ]
    }
   ],
   "source": [
    "# Leemos los archivos\n",
    "corpus = clean_corpus_basic(read_files(\"../dataset/\", [\"negative\", \"positive\"]))\n",
    "\n",
    "# Filtramos por longitud\n",
    "debug(\"[El corpus tiene \" + str(len(corpus)) + \" rows]\")\n",
    "\n",
    "#corpus[\"length\"] = corpus[\"content\"].map(lambda x: len(x.split(\" \")))\n",
    "#corpus = corpus[(corpus[\"length\"] >= min_lenght) & (corpus[\"length\"] <= max_length)]\n",
    "\n",
    "debug(\"[Luego de filtrar el corpus tiene \" + str(len(corpus)) + \" rows]\")\n",
    "\n",
    "#Shuffleamos el corpus\n",
    "corpus = shuffle(corpus)\n",
    "corpus.reset_index(inplace=True, drop=True)\n",
    "\n"
   ]
  },
  {
   "cell_type": "code",
   "execution_count": 5,
   "metadata": {},
   "outputs": [
    {
     "name": "stdout",
     "output_type": "stream",
     "text": [
      "[Vectorizando corpus... ]\n"
     ]
    },
    {
     "data": {
      "text/html": [
       "<div>\n",
       "<style scoped>\n",
       "    .dataframe tbody tr th:only-of-type {\n",
       "        vertical-align: middle;\n",
       "    }\n",
       "\n",
       "    .dataframe tbody tr th {\n",
       "        vertical-align: top;\n",
       "    }\n",
       "\n",
       "    .dataframe thead th {\n",
       "        text-align: right;\n",
       "    }\n",
       "</style>\n",
       "<table border=\"1\" class=\"dataframe\">\n",
       "  <thead>\n",
       "    <tr style=\"text-align: right;\">\n",
       "      <th></th>\n",
       "      <th>content</th>\n",
       "      <th>sentiment</th>\n",
       "      <th>raw</th>\n",
       "      <th>rate</th>\n",
       "      <th>vector</th>\n",
       "    </tr>\n",
       "  </thead>\n",
       "  <tbody>\n",
       "    <tr>\n",
       "      <td>0</td>\n",
       "      <td>FIERR BARBERI NANANANANANAN CAÑON MAQUIN SIMIL...</td>\n",
       "      <td>[1, 0]</td>\n",
       "      <td>un fierro a la barberia nanananananana un caño...</td>\n",
       "      <td>positive</td>\n",
       "      <td>[[0.0, 0.0, 0.0, 0.0, 0.0, 0.0, 0.0, 0.0, 0.0,...</td>\n",
       "    </tr>\n",
       "    <tr>\n",
       "      <td>1</td>\n",
       "      <td>FNCIONALPRACT SENCILL HERMOS CELUL TOD CORRECT...</td>\n",
       "      <td>[1, 0]</td>\n",
       "      <td>Fncional,practico y sencillo Hermoso celular, ...</td>\n",
       "      <td>positive</td>\n",
       "      <td>[[0.0, 0.0, 0.0, 0.0, 0.0, 0.0, 0.0, 0.0, 0.0,...</td>\n",
       "    </tr>\n",
       "    <tr>\n",
       "      <td>2</td>\n",
       "      <td>TRUCH NO PARECI ORIGINAL PLANTILL ERA ZAPATILL...</td>\n",
       "      <td>[0, 1]</td>\n",
       "      <td>Trucho No me parecio un producto original, la ...</td>\n",
       "      <td>negative</td>\n",
       "      <td>[[0.0, 0.0, 0.0, 0.0, 0.0, 0.0, 0.0, 0.0, 0.0,...</td>\n",
       "    </tr>\n",
       "    <tr>\n",
       "      <td>3</td>\n",
       "      <td>MAL REPUEST BAJ CALID NO RECOM</td>\n",
       "      <td>[0, 1]</td>\n",
       "      <td>Producto malo Repuesto de muy baja calidad, no...</td>\n",
       "      <td>negative</td>\n",
       "      <td>[[1.0, 0.0, 0.0, 0.0, 0.0, 0.0, 0.0, 0.0, 0.0,...</td>\n",
       "    </tr>\n",
       "    <tr>\n",
       "      <td>4</td>\n",
       "      <td>MAL MAL IPHON BAIL DENTR BRAZALETEN VER FOT TA...</td>\n",
       "      <td>[0, 1]</td>\n",
       "      <td>Producto muy malo Producto muy malo, el IPHONE...</td>\n",
       "      <td>negative</td>\n",
       "      <td>[[1.0, 0.0, 0.0, 0.0, 0.0, 0.0, 0.0, 0.0, 0.0,...</td>\n",
       "    </tr>\n",
       "  </tbody>\n",
       "</table>\n",
       "</div>"
      ],
      "text/plain": [
       "                                             content sentiment  \\\n",
       "0  FIERR BARBERI NANANANANANAN CAÑON MAQUIN SIMIL...    [1, 0]   \n",
       "1  FNCIONALPRACT SENCILL HERMOS CELUL TOD CORRECT...    [1, 0]   \n",
       "2  TRUCH NO PARECI ORIGINAL PLANTILL ERA ZAPATILL...    [0, 1]   \n",
       "3                     MAL REPUEST BAJ CALID NO RECOM    [0, 1]   \n",
       "4  MAL MAL IPHON BAIL DENTR BRAZALETEN VER FOT TA...    [0, 1]   \n",
       "\n",
       "                                                 raw      rate  \\\n",
       "0  un fierro a la barberia nanananananana un caño...  positive   \n",
       "1  Fncional,practico y sencillo Hermoso celular, ...  positive   \n",
       "2  Trucho No me parecio un producto original, la ...  negative   \n",
       "3  Producto malo Repuesto de muy baja calidad, no...  negative   \n",
       "4  Producto muy malo Producto muy malo, el IPHONE...  negative   \n",
       "\n",
       "                                              vector  \n",
       "0  [[0.0, 0.0, 0.0, 0.0, 0.0, 0.0, 0.0, 0.0, 0.0,...  \n",
       "1  [[0.0, 0.0, 0.0, 0.0, 0.0, 0.0, 0.0, 0.0, 0.0,...  \n",
       "2  [[0.0, 0.0, 0.0, 0.0, 0.0, 0.0, 0.0, 0.0, 0.0,...  \n",
       "3  [[1.0, 0.0, 0.0, 0.0, 0.0, 0.0, 0.0, 0.0, 0.0,...  \n",
       "4  [[1.0, 0.0, 0.0, 0.0, 0.0, 0.0, 0.0, 0.0, 0.0,...  "
      ]
     },
     "execution_count": 5,
     "metadata": {},
     "output_type": "execute_result"
    }
   ],
   "source": [
    "# Seleccionamos los mejores tokens\n",
    "best_tokens = get_best_tokens_dummy(corpus, each_q)\n",
    "max_features = best_tokens.size\n",
    "\n",
    "tokenizer = get_tokenizer(best_tokens, vector_size)\n",
    "\n",
    "# Vectorizamos\n",
    "debug(\"[Vectorizando corpus... ]\")\n",
    "corpus['vector'] = tokenizer(corpus['content'])\n",
    "\n",
    "corpus.head()"
   ]
  },
  {
   "cell_type": "code",
   "execution_count": 6,
   "metadata": {},
   "outputs": [
    {
     "name": "stdout",
     "output_type": "stream",
     "text": [
      "[Son 16000 train sequences]\n",
      "[Son 4000 test sequences]\n"
     ]
    }
   ],
   "source": [
    "# Dividimos el corpus\n",
    "\n",
    "x_total = np.stack(corpus[\"vector\"].values)\n",
    "y_total = np.stack(corpus['sentiment'].values)\n",
    "\n",
    "x_train, x_test = np.split(x_total, [int(train_to_test * len(x_total))])\n",
    "y_train, y_test = np.split(y_total, [int(train_to_test * len(x_total))])\n",
    "\n",
    "log(\"[Son \" + str(len(x_train)) + \" train sequences]\")\n",
    "log(\"[Son \" + str(len(x_test)) + \" test sequences]\")\n",
    "\n"
   ]
  },
  {
   "cell_type": "code",
   "execution_count": 11,
   "metadata": {},
   "outputs": [
    {
     "name": "stdout",
     "output_type": "stream",
     "text": [
      "[Las neuronas van a ser: [21]]\n"
     ]
    }
   ],
   "source": [
    "# Calculamos la cantidad de neuronas con las que vamos a procesar\n",
    "\n",
    "lstm_neurons = []#[int((2/3) * (2 + max_features))]\n",
    "\n",
    "for a in [4]:#range(2, 10 + 1):\n",
    "    dem = a * (2 + max_features )\n",
    "    lstm_neurons.append(int(len(x_train) / dem))\n",
    "\n",
    "lstm_neurons = list( dict.fromkeys(lstm_neurons) )\n",
    "\n",
    "log(\"[Las neuronas van a ser: \" + str(lstm_neurons) + \"]\")"
   ]
  },
  {
   "cell_type": "code",
   "execution_count": 12,
   "metadata": {},
   "outputs": [
    {
     "name": "stdout",
     "output_type": "stream",
     "text": [
      "-----------------------\n",
      "[Usando 21 neuronas]\n",
      "[Buildeando modelo... ]\n",
      "[Modelo buildeado]\n",
      "[Fiteando modelo... ]\n",
      "[Testeando modelo... ]\n",
      "[   Score: 0.16138089448213577\n",
      "[   Accuaracy: 0.9482499957084656\n"
     ]
    }
   ],
   "source": [
    "#Entrenamos modelo y testeamos\n",
    "\n",
    "lstm_results = []\n",
    "for neurons in lstm_neurons: \n",
    "    log(\"-----------------------\")\n",
    "    log(\"[Usando \" + str(neurons) + \" neuronas]\")\n",
    "\n",
    "    #Buildemos modelo\n",
    "    log(\"[Buildeando modelo... ]\")\n",
    "\n",
    "    model = Sequential()\n",
    "    model.add(LSTM(neurons, dropout=0.2, input_shape=(vector_size, max_features)))\n",
    "    model.add(Dense(2, activation='softmax'))\n",
    "    model.compile(loss='binary_crossentropy', optimizer='adam', metrics=['accuracy'])\n",
    "\n",
    "    log(\"[Modelo buildeado]\")\n",
    "\n",
    "    # Fitteamos\n",
    "    log(\"[Fiteando modelo... ]\")\n",
    "    history = model.fit(x_train, y_train,\n",
    "              batch_size=batch_size,\n",
    "              epochs=epoch,  \n",
    "              validation_data=(x_test, y_test),\n",
    "                verbose=0)\n",
    "    \n",
    "    \n",
    "    #Testeamos\n",
    "    log(\"[Testeando modelo... ]\")\n",
    "    score, acc = model.evaluate(x_test, y_test,\n",
    "                                batch_size=batch_size,\n",
    "                               verbose=0)\n",
    "    \n",
    "    log(\"[   Score: \" + str(score))\n",
    "    log(\"[   Accuaracy: \" + str(acc))\n",
    "    \n",
    "    lstm_results.append((neurons, score, acc, history))\n",
    "model.save('model.h5')"
   ]
  },
  {
   "cell_type": "code",
   "execution_count": 13,
   "metadata": {},
   "outputs": [
    {
     "data": {
      "image/png": "[encoded data removed]",
      "text/plain": [
       "<Figure size 1440x360 with 2 Axes>"
      ]
     },
     "metadata": {
      "needs_background": "light"
     },
     "output_type": "display_data"
    }
   ],
   "source": [
    "graph_prefix = \"no_restricted_dummy_\"\n",
    "\n",
    "for (neurons, score, acc, history) in lstm_results:\n",
    "    fig, (ax1, ax2) = plt.subplots(1, 2, figsize=(20, 5))\n",
    "    fig.suptitle(str(neurons) + ' neuronas')\n",
    "    \n",
    "    # Plot training & validation accuracy values\n",
    "    ax1.plot(history.history['accuracy'], label= \"Train\")\n",
    "    ax1.plot(history.history['val_accuracy'], label= \"Test\")\n",
    "    \n",
    "    ax1.set_title('Model accuracy')\n",
    "    ax1.set_ylabel('Accuracy')\n",
    "    ax1.set_xlabel('Epoch')\n",
    "    ax1.legend(loc=\"upper left\")\n",
    "    \n",
    "\n",
    "    # Plot training & validation loss values\n",
    "    ax2.plot(history.history['loss'], label= \"Train\")\n",
    "    ax2.plot(history.history['val_loss'], label= \"Test\")\n",
    "    ax2.set_title('Model loss')\n",
    "    ax2.set_ylabel('Loss')\n",
    "    ax2.set_xlabel('Epoch')\n",
    "    ax2.legend(loc=\"upper left\")\n",
    "    \n",
    "    #fig.savefig('./graphs/' + graph_prefix + str(neurons) + '.png')\n",
    "    \n"
   ]
  },
  {
   "cell_type": "code",
   "execution_count": null,
   "metadata": {},
   "outputs": [],
   "source": []
  }
 ],
 "metadata": {
  "kernelspec": {
   "display_name": "Python 3",
   "language": "python",
   "name": "python3"
  },
  "language_info": {
   "codemirror_mode": {
    "name": "ipython",
    "version": 3
   },
   "file_extension": ".py",
   "mimetype": "text/x-python",
   "name": "python",
   "nbconvert_exporter": "python",
   "pygments_lexer": "ipython3",
   "version": "3.7.4"
  }
 },
 "nbformat": 4,
 "nbformat_minor": 4
}
