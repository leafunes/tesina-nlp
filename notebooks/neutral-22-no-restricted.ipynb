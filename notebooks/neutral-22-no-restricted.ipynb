{
 "cells": [
  {
   "cell_type": "code",
   "execution_count": 1,
   "metadata": {},
   "outputs": [
    {
     "name": "stderr",
     "output_type": "stream",
     "text": [
      "[nltk_data] Downloading package stopwords to\n",
      "[nltk_data]     /Users/lefunes/nltk_data...\n",
      "[nltk_data]   Package stopwords is already up-to-date!\n",
      "[nltk_data] Downloading package punkt to /Users/lefunes/nltk_data...\n",
      "[nltk_data]   Package punkt is already up-to-date!\n",
      "Using TensorFlow backend.\n"
     ]
    }
   ],
   "source": [
    "import sys\n",
    "sys.path.append('../src')\n",
    "from logger import log, debug\n",
    "from cleaner import clean_corpus_basic_neutral\n",
    "from reader import read_files\n",
    "from lstm_utils import get_tokenizer, get_best_tokens_dummy\n",
    "\n",
    "from sklearn.utils import shuffle\n",
    "\n",
    "from keras.layers import Dense, LSTM\n",
    "from keras.models import Model, Sequential, load_model\n",
    "\n",
    "import numpy as np\n",
    "import matplotlib.pyplot as plt\n",
    "import pandas as pd\n",
    "\n"
   ]
  },
  {
   "cell_type": "code",
   "execution_count": 2,
   "metadata": {},
   "outputs": [],
   "source": [
    "# -------------- Hiperparametros -----------------\n",
    "\n",
    "vector_size = 8\n",
    "each_q = 128\n",
    "batch_size = 2000\n",
    "epoch = 256\n",
    "min_lenght, max_length = 4, 8\n",
    "train_to_test = 0.8"
   ]
  },
  {
   "cell_type": "code",
   "execution_count": 3,
   "metadata": {},
   "outputs": [
    {
     "name": "stdout",
     "output_type": "stream",
     "text": [
      "[Usando cleaner basico para samples neutrales]\n",
      "[Limpiando el corpus...]\n",
      "[Usando 8 threads ...]\n",
      "[El corpus tiene 1000 rows]\n"
     ]
    }
   ],
   "source": [
    "# Leemos los archivos\n",
    "neutral_corpus_raw = pd.read_csv(\"./samples/neutral_human_rated.csv\")\n",
    "# Limpiamos el dataframe\n",
    "neutral_corpus = clean_corpus_basic_neutral(neutral_corpus_raw)\n",
    "\n",
    "# Filtramos por longitud\n",
    "debug(\"[El corpus tiene \" + str(len(neutral_corpus)) + \" rows]\")\n",
    "\n",
    "#Shuffleamos el corpus\n",
    "neutral_corpus = shuffle(neutral_corpus)\n",
    "neutral_corpus.reset_index(inplace=True, drop=True)\n",
    "neutral_corpus.head()\n",
    "\n",
    "\n",
    "pd.set_option('display.max_colwidth', -1)\n",
    "pd.set_option('display.max_rows', 200)\n"
   ]
  },
  {
   "cell_type": "code",
   "execution_count": 4,
   "metadata": {},
   "outputs": [
    {
     "name": "stdout",
     "output_type": "stream",
     "text": [
      "[Vectorizando corpus... ]\n",
      "186\n"
     ]
    }
   ],
   "source": [
    "# Seleccionamos los mejores tokens\n",
    "best_tokens = pd.read_pickle(\"best_tokens.bin\")\n",
    "\n",
    "\n",
    "max_features = best_tokens.size\n",
    "\n",
    "tokenizer = get_tokenizer(best_tokens, vector_size)\n",
    "\n",
    "# Vectorizamos\n",
    "debug(\"[Vectorizando corpus... ]\")\n",
    "neutral_corpus['vector'] = tokenizer(neutral_corpus['content'])\n",
    "#del neutral_corpus['content']\n",
    "\n",
    "debug(best_tokens.size)\n"
   ]
  },
  {
   "cell_type": "code",
   "execution_count": 5,
   "metadata": {},
   "outputs": [
    {
     "name": "stdout",
     "output_type": "stream",
     "text": [
      "WARNING:tensorflow:From /usr/local/lib/python3.7/site-packages/tensorflow/python/ops/math_grad.py:1250: add_dispatch_support.<locals>.wrapper (from tensorflow.python.ops.array_ops) is deprecated and will be removed in a future version.\n",
      "Instructions for updating:\n",
      "Use tf.where in 2.0, which has the same broadcast rule as np.where\n",
      "WARNING:tensorflow:From /usr/local/lib/python3.7/site-packages/keras/backend/tensorflow_backend.py:422: The name tf.global_variables is deprecated. Please use tf.compat.v1.global_variables instead.\n",
      "\n"
     ]
    }
   ],
   "source": [
    "# Extraemos los x\n",
    "x = np.stack(neutral_corpus[\"vector\"].values)\n",
    "# Cargamos el model\n",
    "model = load_model(\"./model.h5\")\n"
   ]
  },
  {
   "cell_type": "code",
   "execution_count": 6,
   "metadata": {},
   "outputs": [],
   "source": [
    "def to_rate(row):\n",
    "    percentage = row[0]\n",
    "    if(percentage <= 1/3):\n",
    "        return \"m\"\n",
    "    if(percentage <= 2/3):\n",
    "        return \"n\"\n",
    "    return \"b\"\n",
    "\n",
    "def to_percentage(row):\n",
    "    percentage = row[0]\n",
    "    return '%.3f'%(row[0] * 100) + \"%\"\n",
    "    "
   ]
  },
  {
   "cell_type": "code",
   "execution_count": 7,
   "metadata": {},
   "outputs": [],
   "source": [
    "del neutral_corpus[\"vector\"]"
   ]
  },
  {
   "cell_type": "code",
   "execution_count": 8,
   "metadata": {},
   "outputs": [
    {
     "data": {
      "text/html": [
       "<div>\n",
       "<style scoped>\n",
       "    .dataframe tbody tr th:only-of-type {\n",
       "        vertical-align: middle;\n",
       "    }\n",
       "\n",
       "    .dataframe tbody tr th {\n",
       "        vertical-align: top;\n",
       "    }\n",
       "\n",
       "    .dataframe thead th {\n",
       "        text-align: right;\n",
       "    }\n",
       "</style>\n",
       "<table border=\"1\" class=\"dataframe\">\n",
       "  <thead>\n",
       "    <tr style=\"text-align: right;\">\n",
       "      <th></th>\n",
       "      <th>content</th>\n",
       "      <th>raw</th>\n",
       "      <th>human_rate</th>\n",
       "      <th>prediction</th>\n",
       "      <th>percentage</th>\n",
       "      <th>machine_rate</th>\n",
       "      <th>failed</th>\n",
       "    </tr>\n",
       "  </thead>\n",
       "  <tbody>\n",
       "    <tr>\n",
       "      <td>0</td>\n",
       "      <td>BUEN BUEN BIEN BUEN B L</td>\n",
       "      <td>Bueno Buen bien bueno      B  L</td>\n",
       "      <td>b</td>\n",
       "      <td>[0.8521620035171509, 0.14783795177936554]</td>\n",
       "      <td>85.216%</td>\n",
       "      <td>b</td>\n",
       "      <td>False</td>\n",
       "    </tr>\n",
       "    <tr>\n",
       "      <td>1</td>\n",
       "      <td>TOD BIEN CONFORM TOD BIEN CONFORM</td>\n",
       "      <td>Todo bien, conforme. Todo bien. Conforme con el producto.</td>\n",
       "      <td>b</td>\n",
       "      <td>[0.9137623310089111, 0.08623765408992767]</td>\n",
       "      <td>91.376%</td>\n",
       "      <td>b</td>\n",
       "      <td>False</td>\n",
       "    </tr>\n",
       "    <tr>\n",
       "      <td>2</td>\n",
       "      <td>BUEN NAD MAS ESPER FUER POC MAS PES GRUES SIENT POC DELIC AUNQU SON ESTET LIND BUEN FIL ESTAN BIEN CEN PER NO RECOM PEL FRUT ALGUN OTRA TARE SIMPL COCIN</td>\n",
       "      <td>Buenos nada mas Esperaba que fueran un poco mas pesados y gruesos. Se sienten un poco delicados, aunque son esteticamente lindos y de buen filo. Estan bien para la cena, pero no los recomiendo pelar una fruta o alguna otra tarea simple de la cocina.</td>\n",
       "      <td>n</td>\n",
       "      <td>[0.8443417549133301, 0.15565824508666992]</td>\n",
       "      <td>84.434%</td>\n",
       "      <td>b</td>\n",
       "      <td>True</td>\n",
       "    </tr>\n",
       "    <tr>\n",
       "      <td>3</td>\n",
       "      <td>NO VOLVERI COMPR DIFICIL COLOC PAR NO BORR BIEN</td>\n",
       "      <td>No lo volveria comprar Dificil colocarla a la pared. No se borra muy bien.</td>\n",
       "      <td>m</td>\n",
       "      <td>[0.004333908203989267, 0.9956660270690918]</td>\n",
       "      <td>0.433%</td>\n",
       "      <td>m</td>\n",
       "      <td>False</td>\n",
       "    </tr>\n",
       "    <tr>\n",
       "      <td>4</td>\n",
       "      <td>BIEN ESTA BIEN PRECI</td>\n",
       "      <td>Bien Esta bien para el precio .......</td>\n",
       "      <td>b</td>\n",
       "      <td>[0.6787784099578857, 0.3212215304374695]</td>\n",
       "      <td>67.878%</td>\n",
       "      <td>b</td>\n",
       "      <td>False</td>\n",
       "    </tr>\n",
       "  </tbody>\n",
       "</table>\n",
       "</div>"
      ],
      "text/plain": [
       "                                                                                                                                                    content  \\\n",
       "0  BUEN BUEN BIEN BUEN B L                                                                                                                                    \n",
       "1  TOD BIEN CONFORM TOD BIEN CONFORM                                                                                                                          \n",
       "2  BUEN NAD MAS ESPER FUER POC MAS PES GRUES SIENT POC DELIC AUNQU SON ESTET LIND BUEN FIL ESTAN BIEN CEN PER NO RECOM PEL FRUT ALGUN OTRA TARE SIMPL COCIN   \n",
       "3  NO VOLVERI COMPR DIFICIL COLOC PAR NO BORR BIEN                                                                                                            \n",
       "4  BIEN ESTA BIEN PRECI                                                                                                                                       \n",
       "\n",
       "                                                                                                                                                                                                                                                         raw  \\\n",
       "0  Bueno Buen bien bueno      B  L                                                                                                                                                                                                                             \n",
       "1  Todo bien, conforme. Todo bien. Conforme con el producto.                                                                                                                                                                                                   \n",
       "2  Buenos nada mas Esperaba que fueran un poco mas pesados y gruesos. Se sienten un poco delicados, aunque son esteticamente lindos y de buen filo. Estan bien para la cena, pero no los recomiendo pelar una fruta o alguna otra tarea simple de la cocina.   \n",
       "3  No lo volveria comprar Dificil colocarla a la pared. No se borra muy bien.                                                                                                                                                                                  \n",
       "4  Bien Esta bien para el precio .......                                                                                                                                                                                                                       \n",
       "\n",
       "  human_rate                                  prediction percentage  \\\n",
       "0  b          [0.8521620035171509, 0.14783795177936554]   85.216%     \n",
       "1  b          [0.9137623310089111, 0.08623765408992767]   91.376%     \n",
       "2  n          [0.8443417549133301, 0.15565824508666992]   84.434%     \n",
       "3  m          [0.004333908203989267, 0.9956660270690918]  0.433%      \n",
       "4  b          [0.6787784099578857, 0.3212215304374695]    67.878%     \n",
       "\n",
       "  machine_rate  failed  \n",
       "0  b            False   \n",
       "1  b            False   \n",
       "2  b            True    \n",
       "3  m            False   \n",
       "4  b            False   "
      ]
     },
     "execution_count": 8,
     "metadata": {},
     "output_type": "execute_result"
    }
   ],
   "source": [
    "# Hacemos prediccion contra el model\n",
    "y = model.predict(x, batch_size=batch_size)\n",
    "\n",
    "# Agregamos los resultados al dataframe\n",
    "neutral_corpus[\"prediction\"] = y.tolist()\n",
    "\n",
    "# Convertimos el vector en b/n/m\n",
    "neutral_corpus[\"percentage\"] = neutral_corpus[\"prediction\"].apply(to_percentage)\n",
    "neutral_corpus[\"machine_rate\"] = neutral_corpus[\"prediction\"].apply(to_rate)\n",
    "\n",
    "# Vemos cuales fallo\n",
    "neutral_corpus[\"failed\"] = neutral_corpus[\"human_rate\"] != neutral_corpus[\"machine_rate\"]\n",
    "\n"
   ]
  },
  {
   "cell_type": "code",
   "execution_count": 9,
   "metadata": {},
   "outputs": [],
   "source": [
    "\n",
    "# Separamos en 3 categorias\n",
    "corpus_b = neutral_corpus[neutral_corpus[\"human_rate\"] == \"b\"].copy()\n",
    "corpus_n = neutral_corpus[neutral_corpus[\"human_rate\"] == \"n\"].copy()\n",
    "corpus_m = neutral_corpus[neutral_corpus[\"human_rate\"] == \"m\"].copy()"
   ]
  },
  {
   "cell_type": "code",
   "execution_count": 24,
   "metadata": {},
   "outputs": [
    {
     "name": "stdout",
     "output_type": "stream",
     "text": [
      "[El ratio de failed/total de la categoria neutro-bueno es: 0.1857451403887689]\n",
      "[El ratio de failed/total de la categoria neutro-neutro es: 0.8113695090439277]\n",
      "[El ratio de failed/total de la categoria neutro-malo es: 0.2080536912751678]\n"
     ]
    }
   ],
   "source": [
    "# Contamos el acc de cada cate\n",
    "\n",
    "corpus_b_count = corpus_b[\"failed\"].value_counts(normalize=True)\n",
    "corpus_n_count = corpus_n[\"failed\"].value_counts(normalize=True)\n",
    "corpus_m_count = corpus_m[\"failed\"].value_counts(normalize=True)\n",
    "\n",
    "log(\"[El ratio de failed/total de la categoria neutro-bueno es: \" + str(corpus_b_count[True]) + \"]\")\n",
    "log(\"[El ratio de failed/total de la categoria neutro-neutro es: \" + str(corpus_n_count[True]) + \"]\")\n",
    "log(\"[El ratio de failed/total de la categoria neutro-malo es: \" + str(corpus_m_count[True]) + \"]\")"
   ]
  },
  {
   "cell_type": "code",
   "execution_count": 63,
   "metadata": {},
   "outputs": [
    {
     "data": {
      "image/png": "[encoded data removed]",
      "text/plain": [
       "<Figure size 576x864 with 3 Axes>"
      ]
     },
     "metadata": {
      "needs_background": "light"
     },
     "output_type": "display_data"
    }
   ],
   "source": [
    "# Histogramas de cada categoria\n",
    "\n",
    "hist_data_b = corpus_b[\"prediction\"].map(lambda x: x[0])\n",
    "hist_data_n = corpus_n[\"prediction\"].map(lambda x: x[0])\n",
    "hist_data_m = corpus_m[\"prediction\"].map(lambda x: x[0])\n",
    "\n",
    "fig = plt.figure(figsize=(8, 12))\n",
    "fig.suptitle(\"Histograma de las categorias\")\n",
    "ax1 = fig.add_subplot(3, 1, 1)\n",
    "ax2 = fig.add_subplot(3, 1, 2)\n",
    "ax3 = fig.add_subplot(3, 1, 3)\n",
    "\n",
    "n, bins, patches = ax1.hist(hist_data_b, color='green')\n",
    "ax1.set_title(\"Neutral-Bueno\", y=0.8)\n",
    "ax1.set_xlabel('Componente positivo del vector de prediccion')\n",
    "ax1.set_ylabel('Frequency')\n",
    "\n",
    "n, bins, patches = ax2.hist(hist_data_n, color='yellow')\n",
    "ax2.set_title(\"Neutral-Neutral\", y=0.8)\n",
    "ax2.set_xlabel('Componente positivo del vector de prediccion')\n",
    "ax2.set_ylabel('Frequency')\n",
    "\n",
    "n, bins, patches = ax3.hist(hist_data_m, color='red')\n",
    "ax3.set_title(\"Neutral-Malo\", y=0.8)\n",
    "ax3.set_xlabel('Componente positivo del vector de prediccion')\n",
    "ax3.set_ylabel('Frequency')\n",
    "\n",
    "fig.savefig('./graphs/neutral_histogram.png')"
   ]
  },
  {
   "cell_type": "code",
   "execution_count": 92,
   "metadata": {},
   "outputs": [],
   "source": [
    "# Vemos acc del la predicción\n",
    "rates_diff = neutral_corpus[neutral_corpus[\"human_rate\"] != neutral_corpus[\"machine_rate\"]].copy()\n",
    "rates_ok = neutral_corpus[neutral_corpus[\"human_rate\"] == neutral_corpus[\"machine_rate\"]].copy()\n"
   ]
  },
  {
   "cell_type": "code",
   "execution_count": 83,
   "metadata": {},
   "outputs": [],
   "source": [
    "# Vemos cuanto le falta para llegar al human_rate\n",
    "def get_slack(row):\n",
    "    hr = row[\"human_rate\"]\n",
    "    percentage = row[\"prediction\"][0]\n",
    "    \n",
    "    human_percentage = 0\n",
    "    if(hr == \"b\"):\n",
    "        # la mitad entre 0 y 1/3\n",
    "        human_percentage = 0 + (1/3 / 2)\n",
    "    elif(hr == \"n\"):\n",
    "        # la mitad entre 1/3 y 2/3\n",
    "        human_percentage = 1/3 + (1/3 / 2)\n",
    "    else:\n",
    "        # la mitad entre 2/3 y 1\n",
    "        human_percentage = 2/3 + (1/3 / 2)\n",
    "    return abs(percentage - human_percentage)"
   ]
  },
  {
   "cell_type": "code",
   "execution_count": 93,
   "metadata": {},
   "outputs": [],
   "source": [
    "\n",
    "rates_diff[\"diff\"] = rates_diff.apply(lambda x : get_slack(x), axis=1)\n",
    "rates_ok[\"diff\"] = rates_ok.apply(lambda x : get_slack(x), axis=1)\n",
    "neutral_corpus[\"diff\"] = neutral_corpus.apply(lambda x : get_slack(x), axis=1)\n"
   ]
  },
  {
   "cell_type": "code",
   "execution_count": 97,
   "metadata": {},
   "outputs": [
    {
     "name": "stdout",
     "output_type": "stream",
     "text": [
      "acc: 56.8\n",
      "only diff error mean: 0.3469206205387719\n",
      "only diff std mean: 0.13343732386142287\n",
      "only ok error mean: 0.6606496186894053\n",
      "only ok std mean: 0.23764004478198406\n",
      "all corpus error mean: 0.5251186914883316\n",
      "all corpus std mean: 0.25280330414007013\n"
     ]
    }
   ],
   "source": [
    "acc = len(rates_diff.index) * 100 / len(neutral_corpus.index)\n",
    "\n",
    "debug(\"acc: \" + str(100 - acc))\n",
    "\n",
    "debug(\"only diff error mean: \" + str(rates_diff[\"diff\"].mean()))\n",
    "debug(\"only diff std mean: \" + str(rates_diff[\"diff\"].std()))\n",
    "\n",
    "debug(\"only ok error mean: \" + str(rates_ok[\"diff\"].mean()))\n",
    "debug(\"only ok std mean: \" + str(rates_ok[\"diff\"].std()))\n",
    "\n",
    "debug(\"all corpus error mean: \" + str(neutral_corpus[\"diff\"].mean()))\n",
    "debug(\"all corpus std mean: \" + str(neutral_corpus[\"diff\"].std()))\n"
   ]
  },
  {
   "cell_type": "code",
   "execution_count": null,
   "metadata": {},
   "outputs": [],
   "source": []
  }
 ],
 "metadata": {
  "kernelspec": {
   "display_name": "Python 3",
   "language": "python",
   "name": "python3"
  },
  "language_info": {
   "codemirror_mode": {
    "name": "ipython",
    "version": 3
   },
   "file_extension": ".py",
   "mimetype": "text/x-python",
   "name": "python",
   "nbconvert_exporter": "python",
   "pygments_lexer": "ipython3",
   "version": "3.7.4"
  }
 },
 "nbformat": 4,
 "nbformat_minor": 4
}
