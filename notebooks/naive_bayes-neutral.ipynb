{
 "cells": [
  {
   "cell_type": "code",
   "execution_count": 4,
   "metadata": {},
   "outputs": [],
   "source": [
    "import sys\n",
    "sys.path.append('../src')\n",
    "from logger import log, debug\n",
    "from cleaner import clean_corpus_basic_neutral\n",
    "from reader import read_files\n",
    "from nb_utils import get_best_tokens_dummy\n",
    "\n",
    "from sklearn.utils import shuffle\n",
    "\n",
    "import numpy as np\n",
    "import pandas as pd\n",
    "import matplotlib.pyplot as plt\n",
    "\n",
    "import pickle\n",
    "import nltk"
   ]
  },
  {
   "cell_type": "code",
   "execution_count": 5,
   "metadata": {},
   "outputs": [],
   "source": [
    "# -------------- Hiperparametros -----------------\n",
    "\n",
    "min_each_q = 60\n",
    "max_each_q = 70\n",
    "interval = 1\n",
    "min_lenght, max_length = 4, 8\n",
    "train_to_test = 0.8"
   ]
  },
  {
   "cell_type": "code",
   "execution_count": 6,
   "metadata": {},
   "outputs": [
    {
     "name": "stdout",
     "output_type": "stream",
     "text": [
      "[Usando cleaner basico para samples neutrales]\n",
      "[Limpiando el corpus...]\n",
      "[Usando 8 threads ...]\n",
      "[El corpus tiene 1000 rows]\n"
     ]
    }
   ],
   "source": [
    "# Leemos los archivos\n",
    "neutral_corpus_raw = pd.read_csv(\"./samples/neutral_human_rated.csv\")\n",
    "# Limpiamos el dataframe\n",
    "neutral_corpus = clean_corpus_basic_neutral(neutral_corpus_raw)\n",
    "\n",
    "debug(\"[El corpus tiene \" + str(len(neutral_corpus)) + \" rows]\")\n",
    "\n",
    "#Shuffleamos el corpus\n",
    "neutral_corpus = shuffle(neutral_corpus)\n",
    "neutral_corpus.reset_index(inplace=True, drop=True)\n",
    "neutral_corpus.head()\n",
    "\n",
    "\n",
    "pd.set_option('display.max_colwidth', -1)\n",
    "pd.set_option('display.max_rows', 200)\n"
   ]
  },
  {
   "cell_type": "code",
   "execution_count": 7,
   "metadata": {},
   "outputs": [],
   "source": [
    "\n",
    "def to_nb_dictionaty(cleaned_sentence, best_tokens):\n",
    "    to_ret = {}\n",
    "    for item in best_tokens.iteritems():\n",
    "        to_ret[item[0]] = 0\n",
    "    tokens = nltk.word_tokenize(cleaned_sentence, 'spanish')\n",
    "    for token in tokens:\n",
    "        if (token in to_ret):\n",
    "            to_ret[token] += 1\n",
    "    return to_ret\n",
    "    \n"
   ]
  },
  {
   "cell_type": "code",
   "execution_count": 8,
   "metadata": {},
   "outputs": [],
   "source": [
    "# Cargamos los datos\n",
    "f = open(\"naive-bayes-no-restricted-50.bin\", \"rb\")\n",
    "pickler = pickle.Unpickler(f)\n",
    "\n",
    "best_tokens = pd.read_pickle(\"best_tokens_nb.bin\")\n",
    "model = pickler.load()\n",
    "\n",
    "f.close()"
   ]
  },
  {
   "cell_type": "code",
   "execution_count": 30,
   "metadata": {},
   "outputs": [],
   "source": [
    "def to_rate(row):\n",
    "    # Aca el 0 es el componente positivo\n",
    "    percentage = row[0]\n",
    "    if(percentage <= 1/3):\n",
    "        return \"m\"\n",
    "    if(percentage <= 2/3):\n",
    "        return \"n\"\n",
    "    return \"b\"\n",
    "\n",
    "def to_percentage(row):\n",
    "    percentage = row[0]\n",
    "    return '%.3f'%(row[0] * 100) + \"%\""
   ]
  },
  {
   "cell_type": "code",
   "execution_count": 31,
   "metadata": {},
   "outputs": [],
   "source": [
    "# Transformamos el corpus\n",
    "neutral_corpus[\"nb_dict\"] = neutral_corpus[\"content\"].map(lambda x: to_nb_dictionaty(x, best_tokens))"
   ]
  },
  {
   "cell_type": "code",
   "execution_count": 34,
   "metadata": {},
   "outputs": [],
   "source": [
    "\n",
    "def to_vector(x):\n",
    "    # Predecimos la probabilidad, porque vamos a estar dividiendo en 3 categorias\n",
    "    prob = model.prob_classify(x)\n",
    "    return [prob.prob(\"positive\"), prob.prob(\"negative\")]\n",
    "    "
   ]
  },
  {
   "cell_type": "code",
   "execution_count": 36,
   "metadata": {},
   "outputs": [
    {
     "data": {
      "text/html": [
       "<div>\n",
       "<style scoped>\n",
       "    .dataframe tbody tr th:only-of-type {\n",
       "        vertical-align: middle;\n",
       "    }\n",
       "\n",
       "    .dataframe tbody tr th {\n",
       "        vertical-align: top;\n",
       "    }\n",
       "\n",
       "    .dataframe thead th {\n",
       "        text-align: right;\n",
       "    }\n",
       "</style>\n",
       "<table border=\"1\" class=\"dataframe\">\n",
       "  <thead>\n",
       "    <tr style=\"text-align: right;\">\n",
       "      <th></th>\n",
       "      <th>content</th>\n",
       "      <th>raw</th>\n",
       "      <th>human_rate</th>\n",
       "      <th>nb_dict</th>\n",
       "      <th>prediction</th>\n",
       "      <th>machine_rate</th>\n",
       "      <th>failed</th>\n",
       "    </tr>\n",
       "  </thead>\n",
       "  <tbody>\n",
       "    <tr>\n",
       "      <td>0</td>\n",
       "      <td>NO ERA ESPER VALOR HAC SMART TV SIRV CALIENT MUCH CORT IMAG CABL CORT UTILIZ NIÑ PLAYSTOR NO PRACTIC NOT MUCH MAS CUAND CALIENT</td>\n",
       "      <td>No era lo que esperaba por el valor Para hacer Smart a una tv sirve. Se calienta mucho y se corta la imagen, cables cortos. Para utilizar los niños el PlayStore no es practico, se nota mucho mas cuando se calienta.</td>\n",
       "      <td>m</td>\n",
       "      <td>{'%': 0, '10': 0, 'ACORD': 0, 'ATENCION': 0, 'BAJ': 0, 'BIEN': 0, 'BUEN': 0, 'BUENISIM': 0, 'CALID': 0, 'CHIC': 0, 'COM': 0, 'COMOD': 0, 'COMPR': 0, 'CONFORM': 0, 'CUAL': 0, 'CUMPL': 0, 'DIAS': 0, 'DUR': 0, 'ENCANT': 0, 'ENTREG': 0, 'ERA': 1, 'ESPER': 1, 'EXCELENT': 0, 'EXELENT': 0, 'FACIL': 0, 'FALL': 0, 'FORM': 0, 'FOT': 0, 'FUNCION': 0, 'GENIAL': 0, 'GRACI': 0, 'GUST': 0, 'HERMOS': 0, 'LIND': 0, 'LLEG': 0, 'MAL': 0, 'MALISIM': 0, 'MAND': 0, 'MAS': 1, 'MATERIAL': 0, 'MEJOR': 0, 'MI': 0, 'MIS': 0, 'MUCH': 2, 'NAD': 0, 'NO': 2, 'NUNC': 0, 'OK': 0, 'ORIGINAL': 0, 'PAREC': 0, 'PER': 0, 'PERFECT': 0, 'PESIM': 0, 'POC': 0, 'PRACTIC': 1, 'PRECI': 0, 'PUBLIC': 0, 'QUED': 0, 'RAP': 0, 'RECOM': 0, 'RECOMEND': 0, 'REGUL': 0, 'RELACION': 0, 'RESULT': 0, 'ROMP': 0, 'ROT': 0, 'SIRV': 1, 'SOL': 0, 'SON': 0, 'SUP': 0, 'TERMIN': 0, 'TIEMP': 0, 'TIEN': 0, 'TOD': 0, 'VENDEDOR': 0, 'VIN': 0}</td>\n",
       "      <td>[8.243538695694251e-05, 0.999917564613042]</td>\n",
       "      <td>m</td>\n",
       "      <td>False</td>\n",
       "    </tr>\n",
       "    <tr>\n",
       "      <td>1</td>\n",
       "      <td>BUEN PACK BUEN PER IMAGIN JUEG POC MAS GRAND</td>\n",
       "      <td>Bueno El pack es bueno, pero me imaginaba los juegos un poco más grandes</td>\n",
       "      <td>b</td>\n",
       "      <td>{'%': 0, '10': 0, 'ACORD': 0, 'ATENCION': 0, 'BAJ': 0, 'BIEN': 0, 'BUEN': 2, 'BUENISIM': 0, 'CALID': 0, 'CHIC': 0, 'COM': 0, 'COMOD': 0, 'COMPR': 0, 'CONFORM': 0, 'CUAL': 0, 'CUMPL': 0, 'DIAS': 0, 'DUR': 0, 'ENCANT': 0, 'ENTREG': 0, 'ERA': 0, 'ESPER': 0, 'EXCELENT': 0, 'EXELENT': 0, 'FACIL': 0, 'FALL': 0, 'FORM': 0, 'FOT': 0, 'FUNCION': 0, 'GENIAL': 0, 'GRACI': 0, 'GUST': 0, 'HERMOS': 0, 'LIND': 0, 'LLEG': 0, 'MAL': 0, 'MALISIM': 0, 'MAND': 0, 'MAS': 1, 'MATERIAL': 0, 'MEJOR': 0, 'MI': 0, 'MIS': 0, 'MUCH': 0, 'NAD': 0, 'NO': 0, 'NUNC': 0, 'OK': 0, 'ORIGINAL': 0, 'PAREC': 0, 'PER': 1, 'PERFECT': 0, 'PESIM': 0, 'POC': 1, 'PRACTIC': 0, 'PRECI': 0, 'PUBLIC': 0, 'QUED': 0, 'RAP': 0, 'RECOM': 0, 'RECOMEND': 0, 'REGUL': 0, 'RELACION': 0, 'RESULT': 0, 'ROMP': 0, 'ROT': 0, 'SIRV': 0, 'SOL': 0, 'SON': 0, 'SUP': 0, 'TERMIN': 0, 'TIEMP': 0, 'TIEN': 0, 'TOD': 0, 'VENDEDOR': 0, 'VIN': 0}</td>\n",
       "      <td>[0.0428979031337228, 0.9571020968662762]</td>\n",
       "      <td>m</td>\n",
       "      <td>True</td>\n",
       "    </tr>\n",
       "    <tr>\n",
       "      <td>2</td>\n",
       "      <td>BUEN BUEN GUST MUCH</td>\n",
       "      <td>Muy bueno Muy buen producto. Me gustó mucho</td>\n",
       "      <td>b</td>\n",
       "      <td>{'%': 0, '10': 0, 'ACORD': 0, 'ATENCION': 0, 'BAJ': 0, 'BIEN': 0, 'BUEN': 2, 'BUENISIM': 0, 'CALID': 0, 'CHIC': 0, 'COM': 0, 'COMOD': 0, 'COMPR': 0, 'CONFORM': 0, 'CUAL': 0, 'CUMPL': 0, 'DIAS': 0, 'DUR': 0, 'ENCANT': 0, 'ENTREG': 0, 'ERA': 0, 'ESPER': 0, 'EXCELENT': 0, 'EXELENT': 0, 'FACIL': 0, 'FALL': 0, 'FORM': 0, 'FOT': 0, 'FUNCION': 0, 'GENIAL': 0, 'GRACI': 0, 'GUST': 1, 'HERMOS': 0, 'LIND': 0, 'LLEG': 0, 'MAL': 0, 'MALISIM': 0, 'MAND': 0, 'MAS': 0, 'MATERIAL': 0, 'MEJOR': 0, 'MI': 0, 'MIS': 0, 'MUCH': 1, 'NAD': 0, 'NO': 0, 'NUNC': 0, 'OK': 0, 'ORIGINAL': 0, 'PAREC': 0, 'PER': 0, 'PERFECT': 0, 'PESIM': 0, 'POC': 0, 'PRACTIC': 0, 'PRECI': 0, 'PUBLIC': 0, 'QUED': 0, 'RAP': 0, 'RECOM': 0, 'RECOMEND': 0, 'REGUL': 0, 'RELACION': 0, 'RESULT': 0, 'ROMP': 0, 'ROT': 0, 'SIRV': 0, 'SOL': 0, 'SON': 0, 'SUP': 0, 'TERMIN': 0, 'TIEMP': 0, 'TIEN': 0, 'TOD': 0, 'VENDEDOR': 0, 'VIN': 0}</td>\n",
       "      <td>[0.7947845689555889, 0.20521543104441012]</td>\n",
       "      <td>b</td>\n",
       "      <td>False</td>\n",
       "    </tr>\n",
       "    <tr>\n",
       "      <td>3</td>\n",
       "      <td>IDEAL COLEGI BUEN PRECI CALID RECOMEND</td>\n",
       "      <td>Ideal para el colegio Buen producto precio calidad recomendable</td>\n",
       "      <td>b</td>\n",
       "      <td>{'%': 0, '10': 0, 'ACORD': 0, 'ATENCION': 0, 'BAJ': 0, 'BIEN': 0, 'BUEN': 1, 'BUENISIM': 0, 'CALID': 1, 'CHIC': 0, 'COM': 0, 'COMOD': 0, 'COMPR': 0, 'CONFORM': 0, 'CUAL': 0, 'CUMPL': 0, 'DIAS': 0, 'DUR': 0, 'ENCANT': 0, 'ENTREG': 0, 'ERA': 0, 'ESPER': 0, 'EXCELENT': 0, 'EXELENT': 0, 'FACIL': 0, 'FALL': 0, 'FORM': 0, 'FOT': 0, 'FUNCION': 0, 'GENIAL': 0, 'GRACI': 0, 'GUST': 0, 'HERMOS': 0, 'LIND': 0, 'LLEG': 0, 'MAL': 0, 'MALISIM': 0, 'MAND': 0, 'MAS': 0, 'MATERIAL': 0, 'MEJOR': 0, 'MI': 0, 'MIS': 0, 'MUCH': 0, 'NAD': 0, 'NO': 0, 'NUNC': 0, 'OK': 0, 'ORIGINAL': 0, 'PAREC': 0, 'PER': 0, 'PERFECT': 0, 'PESIM': 0, 'POC': 0, 'PRACTIC': 0, 'PRECI': 1, 'PUBLIC': 0, 'QUED': 0, 'RAP': 0, 'RECOM': 0, 'RECOMEND': 1, 'REGUL': 0, 'RELACION': 0, 'RESULT': 0, 'ROMP': 0, 'ROT': 0, 'SIRV': 0, 'SOL': 0, 'SON': 0, 'SUP': 0, 'TERMIN': 0, 'TIEMP': 0, 'TIEN': 0, 'TOD': 0, 'VENDEDOR': 0, 'VIN': 0}</td>\n",
       "      <td>[0.9929616639118294, 0.007038336088170708]</td>\n",
       "      <td>b</td>\n",
       "      <td>False</td>\n",
       "    </tr>\n",
       "    <tr>\n",
       "      <td>4</td>\n",
       "      <td>VOY ESPER LLEG TIEMP PACT NO PUED OPIN TIEMP COMPRUEB FUNCION NO</td>\n",
       "      <td>voy a esperar llego a tiempo segun lo pactado, no puedo opinar hasta que en un tiempo compruebe si funciono o no</td>\n",
       "      <td>n</td>\n",
       "      <td>{'%': 0, '10': 0, 'ACORD': 0, 'ATENCION': 0, 'BAJ': 0, 'BIEN': 0, 'BUEN': 0, 'BUENISIM': 0, 'CALID': 0, 'CHIC': 0, 'COM': 0, 'COMOD': 0, 'COMPR': 0, 'CONFORM': 0, 'CUAL': 0, 'CUMPL': 0, 'DIAS': 0, 'DUR': 0, 'ENCANT': 0, 'ENTREG': 0, 'ERA': 0, 'ESPER': 1, 'EXCELENT': 0, 'EXELENT': 0, 'FACIL': 0, 'FALL': 0, 'FORM': 0, 'FOT': 0, 'FUNCION': 1, 'GENIAL': 0, 'GRACI': 0, 'GUST': 0, 'HERMOS': 0, 'LIND': 0, 'LLEG': 1, 'MAL': 0, 'MALISIM': 0, 'MAND': 0, 'MAS': 0, 'MATERIAL': 0, 'MEJOR': 0, 'MI': 0, 'MIS': 0, 'MUCH': 0, 'NAD': 0, 'NO': 2, 'NUNC': 0, 'OK': 0, 'ORIGINAL': 0, 'PAREC': 0, 'PER': 0, 'PERFECT': 0, 'PESIM': 0, 'POC': 0, 'PRACTIC': 0, 'PRECI': 0, 'PUBLIC': 0, 'QUED': 0, 'RAP': 0, 'RECOM': 0, 'RECOMEND': 0, 'REGUL': 0, 'RELACION': 0, 'RESULT': 0, 'ROMP': 0, 'ROT': 0, 'SIRV': 0, 'SOL': 0, 'SON': 0, 'SUP': 0, 'TERMIN': 0, 'TIEMP': 2, 'TIEN': 0, 'TOD': 0, 'VENDEDOR': 0, 'VIN': 0}</td>\n",
       "      <td>[0.003940278985618467, 0.9960597210143813]</td>\n",
       "      <td>m</td>\n",
       "      <td>True</td>\n",
       "    </tr>\n",
       "  </tbody>\n",
       "</table>\n",
       "</div>"
      ],
      "text/plain": [
       "                                                                                                                           content  \\\n",
       "0  NO ERA ESPER VALOR HAC SMART TV SIRV CALIENT MUCH CORT IMAG CABL CORT UTILIZ NIÑ PLAYSTOR NO PRACTIC NOT MUCH MAS CUAND CALIENT   \n",
       "1  BUEN PACK BUEN PER IMAGIN JUEG POC MAS GRAND                                                                                      \n",
       "2  BUEN BUEN GUST MUCH                                                                                                               \n",
       "3  IDEAL COLEGI BUEN PRECI CALID RECOMEND                                                                                            \n",
       "4  VOY ESPER LLEG TIEMP PACT NO PUED OPIN TIEMP COMPRUEB FUNCION NO                                                                  \n",
       "\n",
       "                                                                                                                                                                                                                      raw  \\\n",
       "0  No era lo que esperaba por el valor Para hacer Smart a una tv sirve. Se calienta mucho y se corta la imagen, cables cortos. Para utilizar los niños el PlayStore no es practico, se nota mucho mas cuando se calienta.   \n",
       "1  Bueno El pack es bueno, pero me imaginaba los juegos un poco más grandes                                                                                                                                                 \n",
       "2  Muy bueno Muy buen producto. Me gustó mucho                                                                                                                                                                              \n",
       "3  Ideal para el colegio Buen producto precio calidad recomendable                                                                                                                                                          \n",
       "4  voy a esperar llego a tiempo segun lo pactado, no puedo opinar hasta que en un tiempo compruebe si funciono o no                                                                                                         \n",
       "\n",
       "  human_rate  \\\n",
       "0  m           \n",
       "1  b           \n",
       "2  b           \n",
       "3  b           \n",
       "4  n           \n",
       "\n",
       "                                                                                                                                                                                                                                                                                                                                                                                                                                                                                                                                                                                                                                                                                                                                                                                                                                                                                                                  nb_dict  \\\n",
       "0  {'%': 0, '10': 0, 'ACORD': 0, 'ATENCION': 0, 'BAJ': 0, 'BIEN': 0, 'BUEN': 0, 'BUENISIM': 0, 'CALID': 0, 'CHIC': 0, 'COM': 0, 'COMOD': 0, 'COMPR': 0, 'CONFORM': 0, 'CUAL': 0, 'CUMPL': 0, 'DIAS': 0, 'DUR': 0, 'ENCANT': 0, 'ENTREG': 0, 'ERA': 1, 'ESPER': 1, 'EXCELENT': 0, 'EXELENT': 0, 'FACIL': 0, 'FALL': 0, 'FORM': 0, 'FOT': 0, 'FUNCION': 0, 'GENIAL': 0, 'GRACI': 0, 'GUST': 0, 'HERMOS': 0, 'LIND': 0, 'LLEG': 0, 'MAL': 0, 'MALISIM': 0, 'MAND': 0, 'MAS': 1, 'MATERIAL': 0, 'MEJOR': 0, 'MI': 0, 'MIS': 0, 'MUCH': 2, 'NAD': 0, 'NO': 2, 'NUNC': 0, 'OK': 0, 'ORIGINAL': 0, 'PAREC': 0, 'PER': 0, 'PERFECT': 0, 'PESIM': 0, 'POC': 0, 'PRACTIC': 1, 'PRECI': 0, 'PUBLIC': 0, 'QUED': 0, 'RAP': 0, 'RECOM': 0, 'RECOMEND': 0, 'REGUL': 0, 'RELACION': 0, 'RESULT': 0, 'ROMP': 0, 'ROT': 0, 'SIRV': 1, 'SOL': 0, 'SON': 0, 'SUP': 0, 'TERMIN': 0, 'TIEMP': 0, 'TIEN': 0, 'TOD': 0, 'VENDEDOR': 0, 'VIN': 0}   \n",
       "1  {'%': 0, '10': 0, 'ACORD': 0, 'ATENCION': 0, 'BAJ': 0, 'BIEN': 0, 'BUEN': 2, 'BUENISIM': 0, 'CALID': 0, 'CHIC': 0, 'COM': 0, 'COMOD': 0, 'COMPR': 0, 'CONFORM': 0, 'CUAL': 0, 'CUMPL': 0, 'DIAS': 0, 'DUR': 0, 'ENCANT': 0, 'ENTREG': 0, 'ERA': 0, 'ESPER': 0, 'EXCELENT': 0, 'EXELENT': 0, 'FACIL': 0, 'FALL': 0, 'FORM': 0, 'FOT': 0, 'FUNCION': 0, 'GENIAL': 0, 'GRACI': 0, 'GUST': 0, 'HERMOS': 0, 'LIND': 0, 'LLEG': 0, 'MAL': 0, 'MALISIM': 0, 'MAND': 0, 'MAS': 1, 'MATERIAL': 0, 'MEJOR': 0, 'MI': 0, 'MIS': 0, 'MUCH': 0, 'NAD': 0, 'NO': 0, 'NUNC': 0, 'OK': 0, 'ORIGINAL': 0, 'PAREC': 0, 'PER': 1, 'PERFECT': 0, 'PESIM': 0, 'POC': 1, 'PRACTIC': 0, 'PRECI': 0, 'PUBLIC': 0, 'QUED': 0, 'RAP': 0, 'RECOM': 0, 'RECOMEND': 0, 'REGUL': 0, 'RELACION': 0, 'RESULT': 0, 'ROMP': 0, 'ROT': 0, 'SIRV': 0, 'SOL': 0, 'SON': 0, 'SUP': 0, 'TERMIN': 0, 'TIEMP': 0, 'TIEN': 0, 'TOD': 0, 'VENDEDOR': 0, 'VIN': 0}   \n",
       "2  {'%': 0, '10': 0, 'ACORD': 0, 'ATENCION': 0, 'BAJ': 0, 'BIEN': 0, 'BUEN': 2, 'BUENISIM': 0, 'CALID': 0, 'CHIC': 0, 'COM': 0, 'COMOD': 0, 'COMPR': 0, 'CONFORM': 0, 'CUAL': 0, 'CUMPL': 0, 'DIAS': 0, 'DUR': 0, 'ENCANT': 0, 'ENTREG': 0, 'ERA': 0, 'ESPER': 0, 'EXCELENT': 0, 'EXELENT': 0, 'FACIL': 0, 'FALL': 0, 'FORM': 0, 'FOT': 0, 'FUNCION': 0, 'GENIAL': 0, 'GRACI': 0, 'GUST': 1, 'HERMOS': 0, 'LIND': 0, 'LLEG': 0, 'MAL': 0, 'MALISIM': 0, 'MAND': 0, 'MAS': 0, 'MATERIAL': 0, 'MEJOR': 0, 'MI': 0, 'MIS': 0, 'MUCH': 1, 'NAD': 0, 'NO': 0, 'NUNC': 0, 'OK': 0, 'ORIGINAL': 0, 'PAREC': 0, 'PER': 0, 'PERFECT': 0, 'PESIM': 0, 'POC': 0, 'PRACTIC': 0, 'PRECI': 0, 'PUBLIC': 0, 'QUED': 0, 'RAP': 0, 'RECOM': 0, 'RECOMEND': 0, 'REGUL': 0, 'RELACION': 0, 'RESULT': 0, 'ROMP': 0, 'ROT': 0, 'SIRV': 0, 'SOL': 0, 'SON': 0, 'SUP': 0, 'TERMIN': 0, 'TIEMP': 0, 'TIEN': 0, 'TOD': 0, 'VENDEDOR': 0, 'VIN': 0}   \n",
       "3  {'%': 0, '10': 0, 'ACORD': 0, 'ATENCION': 0, 'BAJ': 0, 'BIEN': 0, 'BUEN': 1, 'BUENISIM': 0, 'CALID': 1, 'CHIC': 0, 'COM': 0, 'COMOD': 0, 'COMPR': 0, 'CONFORM': 0, 'CUAL': 0, 'CUMPL': 0, 'DIAS': 0, 'DUR': 0, 'ENCANT': 0, 'ENTREG': 0, 'ERA': 0, 'ESPER': 0, 'EXCELENT': 0, 'EXELENT': 0, 'FACIL': 0, 'FALL': 0, 'FORM': 0, 'FOT': 0, 'FUNCION': 0, 'GENIAL': 0, 'GRACI': 0, 'GUST': 0, 'HERMOS': 0, 'LIND': 0, 'LLEG': 0, 'MAL': 0, 'MALISIM': 0, 'MAND': 0, 'MAS': 0, 'MATERIAL': 0, 'MEJOR': 0, 'MI': 0, 'MIS': 0, 'MUCH': 0, 'NAD': 0, 'NO': 0, 'NUNC': 0, 'OK': 0, 'ORIGINAL': 0, 'PAREC': 0, 'PER': 0, 'PERFECT': 0, 'PESIM': 0, 'POC': 0, 'PRACTIC': 0, 'PRECI': 1, 'PUBLIC': 0, 'QUED': 0, 'RAP': 0, 'RECOM': 0, 'RECOMEND': 1, 'REGUL': 0, 'RELACION': 0, 'RESULT': 0, 'ROMP': 0, 'ROT': 0, 'SIRV': 0, 'SOL': 0, 'SON': 0, 'SUP': 0, 'TERMIN': 0, 'TIEMP': 0, 'TIEN': 0, 'TOD': 0, 'VENDEDOR': 0, 'VIN': 0}   \n",
       "4  {'%': 0, '10': 0, 'ACORD': 0, 'ATENCION': 0, 'BAJ': 0, 'BIEN': 0, 'BUEN': 0, 'BUENISIM': 0, 'CALID': 0, 'CHIC': 0, 'COM': 0, 'COMOD': 0, 'COMPR': 0, 'CONFORM': 0, 'CUAL': 0, 'CUMPL': 0, 'DIAS': 0, 'DUR': 0, 'ENCANT': 0, 'ENTREG': 0, 'ERA': 0, 'ESPER': 1, 'EXCELENT': 0, 'EXELENT': 0, 'FACIL': 0, 'FALL': 0, 'FORM': 0, 'FOT': 0, 'FUNCION': 1, 'GENIAL': 0, 'GRACI': 0, 'GUST': 0, 'HERMOS': 0, 'LIND': 0, 'LLEG': 1, 'MAL': 0, 'MALISIM': 0, 'MAND': 0, 'MAS': 0, 'MATERIAL': 0, 'MEJOR': 0, 'MI': 0, 'MIS': 0, 'MUCH': 0, 'NAD': 0, 'NO': 2, 'NUNC': 0, 'OK': 0, 'ORIGINAL': 0, 'PAREC': 0, 'PER': 0, 'PERFECT': 0, 'PESIM': 0, 'POC': 0, 'PRACTIC': 0, 'PRECI': 0, 'PUBLIC': 0, 'QUED': 0, 'RAP': 0, 'RECOM': 0, 'RECOMEND': 0, 'REGUL': 0, 'RELACION': 0, 'RESULT': 0, 'ROMP': 0, 'ROT': 0, 'SIRV': 0, 'SOL': 0, 'SON': 0, 'SUP': 0, 'TERMIN': 0, 'TIEMP': 2, 'TIEN': 0, 'TOD': 0, 'VENDEDOR': 0, 'VIN': 0}   \n",
       "\n",
       "                                   prediction machine_rate  failed  \n",
       "0  [8.243538695694251e-05, 0.999917564613042]  m            False   \n",
       "1  [0.0428979031337228, 0.9571020968662762]    m            True    \n",
       "2  [0.7947845689555889, 0.20521543104441012]   b            False   \n",
       "3  [0.9929616639118294, 0.007038336088170708]  b            False   \n",
       "4  [0.003940278985618467, 0.9960597210143813]  m            True    "
      ]
     },
     "execution_count": 36,
     "metadata": {},
     "output_type": "execute_result"
    }
   ],
   "source": [
    "\n",
    "# Hacemos prediccion contra el model\n",
    "\n",
    "# Agregamos los resultados al dataframe\n",
    "neutral_corpus[\"prediction\"] = neutral_corpus[\"nb_dict\"].map(to_vector)\n",
    "\n",
    "# Convertimos el vector en b/n/m\n",
    "neutral_corpus[\"machine_rate\"] = neutral_corpus[\"prediction\"].apply(to_rate)\n",
    "\n",
    "# Vemos cuales fallo\n",
    "neutral_corpus[\"failed\"] = neutral_corpus[\"human_rate\"] != neutral_corpus[\"machine_rate\"]\n",
    "neutral_corpus.head()"
   ]
  },
  {
   "cell_type": "code",
   "execution_count": 5,
   "metadata": {},
   "outputs": [],
   "source": [
    "def supertrain(train_set):\n",
    "    train_set_splitted = np.array_split(train_set, 5)\n",
    "    max_classifier = (None, 0)\n",
    "\n",
    "    # la idea es hacer un cross-check, con 5 arrays\n",
    "    splitted_len = len(train_set_splitted)\n",
    "    for i in range(splitted_len):\n",
    "        no_better_count = 0\n",
    "        for _ in range(100): #Hacemos 100 iteraciones\n",
    "            if(no_better_count > 10): #Despues de 10 iteraciones sin encontrar mejor, paramos\n",
    "                break\n",
    "                \n",
    "            train_subset = train_set_splitted[0:i] + train_set_splitted[(i + 1): splitted_len]\n",
    "            train_subset = [item for sublist in train_subset for item in sublist]\n",
    "            np.random.shuffle(train_subset)\n",
    "\n",
    "            np.random.shuffle(train_set_splitted[i])\n",
    "                \n",
    "            # Creamos el clasificador y lo evaluamos\n",
    "            classifier = nltk.NaiveBayesClassifier.train(train_subset)\n",
    "            acc = nltk.classify.accuracy(classifier, train_set_splitted[i])\n",
    "\n",
    "            # Vemos si encontramos un clasificador mejor\n",
    "            if(acc > max_classifier[1]):\n",
    "                log(\"[   Se encontro un clasificador mejor \" + str(acc * 100) + \"% ]\")\n",
    "                max_classifier = (classifier, acc) # Guardamos el mejor clasificador\n",
    "            no_better_count += 1 # Si no encontramos mejor, aumentamos en uno\n",
    "\n",
    "    return max_classifier\n"
   ]
  },
  {
   "cell_type": "code",
   "execution_count": 37,
   "metadata": {},
   "outputs": [],
   "source": [
    "\n",
    "# Separamos en 3 categorias\n",
    "corpus_b = neutral_corpus[neutral_corpus[\"human_rate\"] == \"b\"].copy()\n",
    "corpus_n = neutral_corpus[neutral_corpus[\"human_rate\"] == \"n\"].copy()\n",
    "corpus_m = neutral_corpus[neutral_corpus[\"human_rate\"] == \"m\"].copy()"
   ]
  },
  {
   "cell_type": "code",
   "execution_count": 38,
   "metadata": {},
   "outputs": [
    {
     "name": "stdout",
     "output_type": "stream",
     "text": [
      "[El ratio de failed/total de la categoria neutro-bueno es: 0.326133909287257]\n",
      "[El ratio de failed/total de la categoria neutro-neutro es: 0.8630490956072352]\n",
      "[El ratio de failed/total de la categoria neutro-malo es: 0.11409395973154363]\n"
     ]
    }
   ],
   "source": [
    "# Contamos el acc de cada cate\n",
    "\n",
    "corpus_b_count = corpus_b[\"failed\"].value_counts(normalize=True)\n",
    "corpus_n_count = corpus_n[\"failed\"].value_counts(normalize=True)\n",
    "corpus_m_count = corpus_m[\"failed\"].value_counts(normalize=True)\n",
    "\n",
    "log(\"[El ratio de failed/total de la categoria neutro-bueno es: \" + str(corpus_b_count[True]) + \"]\")\n",
    "log(\"[El ratio de failed/total de la categoria neutro-neutro es: \" + str(corpus_n_count[True]) + \"]\")\n",
    "log(\"[El ratio de failed/total de la categoria neutro-malo es: \" + str(corpus_m_count[True]) + \"]\")"
   ]
  },
  {
   "cell_type": "code",
   "execution_count": 40,
   "metadata": {},
   "outputs": [
    {
     "data": {
      "image/png": "[encoded data removed]",
      "text/plain": [
       "<Figure size 576x864 with 3 Axes>"
      ]
     },
     "metadata": {
      "needs_background": "light"
     },
     "output_type": "display_data"
    }
   ],
   "source": [
    "# Histogramas de cada categoria\n",
    "\n",
    "hist_data_b = corpus_b[\"prediction\"].map(lambda x: x[1])\n",
    "hist_data_n = corpus_n[\"prediction\"].map(lambda x: x[1])\n",
    "hist_data_m = corpus_m[\"prediction\"].map(lambda x: x[1])\n",
    "\n",
    "fig = plt.figure(figsize=(8, 12))\n",
    "fig.suptitle(\"Histograma de las categorias (Naive Bayes)\")\n",
    "ax1 = fig.add_subplot(3, 1, 1)\n",
    "ax2 = fig.add_subplot(3, 1, 2)\n",
    "ax3 = fig.add_subplot(3, 1, 3)\n",
    "\n",
    "n, bins, patches = ax1.hist(hist_data_b, color='green')\n",
    "ax1.set_title(\"Neutral-Bueno\", y=0.8)\n",
    "ax1.set_xlabel('Componente positivo del vector de prediccion')\n",
    "ax1.set_ylabel('Frequency')\n",
    "\n",
    "n, bins, patches = ax2.hist(hist_data_n, color='yellow')\n",
    "ax2.set_title(\"Neutral-Neutral\", y=0.8)\n",
    "ax2.set_xlabel('Componente positivo del vector de prediccion')\n",
    "ax2.set_ylabel('Frequency')\n",
    "\n",
    "n, bins, patches = ax3.hist(hist_data_m, color='red')\n",
    "ax3.set_title(\"Neutral-Malo\", y=0.8)\n",
    "ax3.set_xlabel('Componente positivo del vector de prediccion')\n",
    "ax3.set_ylabel('Frequency')\n",
    "\n",
    "\n",
    "fig.savefig('./graphs/neutral_histogram_nb.png')"
   ]
  },
  {
   "cell_type": "code",
   "execution_count": null,
   "metadata": {},
   "outputs": [],
   "source": []
  }
 ],
 "metadata": {
  "kernelspec": {
   "display_name": "Python 3",
   "language": "python",
   "name": "python3"
  },
  "language_info": {
   "codemirror_mode": {
    "name": "ipython",
    "version": 3
   },
   "file_extension": ".py",
   "mimetype": "text/x-python",
   "name": "python",
   "nbconvert_exporter": "python",
   "pygments_lexer": "ipython3",
   "version": "3.7.4"
  }
 },
 "nbformat": 4,
 "nbformat_minor": 4
}
