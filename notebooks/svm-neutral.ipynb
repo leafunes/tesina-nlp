{
 "cells": [
  {
   "cell_type": "code",
   "execution_count": 3,
   "metadata": {},
   "outputs": [
    {
     "name": "stderr",
     "output_type": "stream",
     "text": [
      "[nltk_data] Downloading package stopwords to\n",
      "[nltk_data]     /Users/lefunes/nltk_data...\n",
      "[nltk_data]   Package stopwords is already up-to-date!\n",
      "[nltk_data] Downloading package punkt to /Users/lefunes/nltk_data...\n",
      "[nltk_data]   Package punkt is already up-to-date!\n"
     ]
    }
   ],
   "source": [
    "import sys\n",
    "sys.path.append('../src')\n",
    "from logger import log, debug\n",
    "from cleaner import clean_corpus_basic_neutral\n",
    "from reader import read_files\n",
    "from svm_utils import get_best_tokens_dummy, transform_sentence, get_score\n",
    "\n",
    "from sklearn.utils import shuffle\n",
    "from sklearn import svm\n",
    "\n",
    "import numpy as np\n",
    "import pandas as pd\n",
    "import matplotlib.pyplot as plt\n",
    "import seaborn as sns\n",
    "\n",
    "\n",
    "import nltk\n",
    "import pickle"
   ]
  },
  {
   "cell_type": "code",
   "execution_count": 4,
   "metadata": {},
   "outputs": [
    {
     "name": "stdout",
     "output_type": "stream",
     "text": [
      "[Usando cleaner basico para samples neutrales]\n",
      "[Limpiando el corpus...]\n",
      "[Usando 8 threads ...]\n",
      "[El corpus tiene 1000 rows]\n"
     ]
    }
   ],
   "source": [
    "# Leemos los archivos\n",
    "neutral_corpus_raw = pd.read_csv(\"./samples/neutral_human_rated.csv\")\n",
    "# Limpiamos el dataframe\n",
    "neutral_corpus = clean_corpus_basic_neutral(neutral_corpus_raw)\n",
    "\n",
    "debug(\"[El corpus tiene \" + str(len(neutral_corpus)) + \" rows]\")\n",
    "\n",
    "#Shuffleamos el corpus\n",
    "neutral_corpus = shuffle(neutral_corpus)\n",
    "neutral_corpus.reset_index(inplace=True, drop=True)\n",
    "neutral_corpus.head()\n",
    "\n",
    "\n",
    "pd.set_option('display.max_colwidth', -1)\n",
    "pd.set_option('display.max_rows', 200)"
   ]
  },
  {
   "cell_type": "code",
   "execution_count": 5,
   "metadata": {},
   "outputs": [],
   "source": [
    "# Cargamos los datos\n",
    "f = open(\"svm-no-restricted-4-3.bin\", \"rb\")\n",
    "pickler = pickle.Unpickler(f)\n",
    "\n",
    "best_tokens = pd.read_pickle(\"best_tokens_svm.bin\")\n",
    "model = pickler.load()\n",
    "\n",
    "f.close()\n"
   ]
  },
  {
   "cell_type": "code",
   "execution_count": 6,
   "metadata": {},
   "outputs": [],
   "source": [
    "def to_rate(row):\n",
    "    # Aca el 1 es el componente positivo\n",
    "    percentage = row[1]\n",
    "    if(percentage <= 1/3):\n",
    "        return \"m\"\n",
    "    if(percentage <= 2/3):\n",
    "        return \"n\"\n",
    "    return \"b\"\n",
    "\n",
    "def to_percentage(row):\n",
    "    percentage = row[0]\n",
    "    return '%.3f'%(row[0] * 100) + \"%\""
   ]
  },
  {
   "cell_type": "code",
   "execution_count": 7,
   "metadata": {},
   "outputs": [],
   "source": [
    "# Transformamos el corpus\n",
    "vector_size = 3\n",
    "neutral_corpus[\"vector\"] = neutral_corpus[\"content\"].map(lambda x: transform_sentence(x, best_tokens, vector_size))\n"
   ]
  },
  {
   "cell_type": "code",
   "execution_count": 8,
   "metadata": {},
   "outputs": [
    {
     "data": {
      "text/html": [
       "<div>\n",
       "<style scoped>\n",
       "    .dataframe tbody tr th:only-of-type {\n",
       "        vertical-align: middle;\n",
       "    }\n",
       "\n",
       "    .dataframe tbody tr th {\n",
       "        vertical-align: top;\n",
       "    }\n",
       "\n",
       "    .dataframe thead th {\n",
       "        text-align: right;\n",
       "    }\n",
       "</style>\n",
       "<table border=\"1\" class=\"dataframe\">\n",
       "  <thead>\n",
       "    <tr style=\"text-align: right;\">\n",
       "      <th></th>\n",
       "      <th>content</th>\n",
       "      <th>raw</th>\n",
       "      <th>human_rate</th>\n",
       "      <th>vector</th>\n",
       "      <th>prediction</th>\n",
       "      <th>machine_rate</th>\n",
       "      <th>failed</th>\n",
       "    </tr>\n",
       "  </thead>\n",
       "  <tbody>\n",
       "    <tr>\n",
       "      <td>0</td>\n",
       "      <td>BUEN COLOQU ANDUV PERFECT ERA EXACT NECESIT</td>\n",
       "      <td>Bueno lo coloque y anduvo perfecto. Era exactamente lo que necesitaba.</td>\n",
       "      <td>b</td>\n",
       "      <td>[1.0, 0.0, 0.0]</td>\n",
       "      <td>[0.131961893911151, 0.8680381060888491]</td>\n",
       "      <td>b</td>\n",
       "      <td>False</td>\n",
       "    </tr>\n",
       "    <tr>\n",
       "      <td>1</td>\n",
       "      <td>BUEN MOMENT CUMPL SU FUNCION NO TIEN MISM AMPERAJ ORIGINAL PER IGUAL MANER FUNCION</td>\n",
       "      <td>Bueno Por el momento el producto cumple con su función, no tiene el mismo amperaje que original, pero de igual manera funciona</td>\n",
       "      <td>b</td>\n",
       "      <td>[1.0, 5.0, 6.0]</td>\n",
       "      <td>[0.5521134734648843, 0.4478865265351156]</td>\n",
       "      <td>n</td>\n",
       "      <td>True</td>\n",
       "    </tr>\n",
       "    <tr>\n",
       "      <td>2</td>\n",
       "      <td>MAS MEN ECONOM PER BAJ CALID ECONOM PER CALID BASTANT BAJ COMPR REGAL TERMIN COMPR OTRO MAZ CART CAMBI PORQU VIEN DENTR TRUQUER ERA BAJ CALID</td>\n",
       "      <td>Mas o menos, económica pero de baja calidad Es económico, pero la calidad es bastante baja, Lo compramos para regalo y terminamos comprando otro mazo de cartas para cambiarlo porque el que viene dentro de la truquera era de muy baja calidad.</td>\n",
       "      <td>n</td>\n",
       "      <td>[6.0, 2.0, 6.0]</td>\n",
       "      <td>[0.9198430277770353, 0.080156972222965]</td>\n",
       "      <td>m</td>\n",
       "      <td>True</td>\n",
       "    </tr>\n",
       "    <tr>\n",
       "      <td>3</td>\n",
       "      <td>BUEN SER BUEN REGUL VELOC POC MAS POTENCI ALMOHADILL BLAND DEFORM</td>\n",
       "      <td>Bueno Sería bueno un regulador de velocidades y un producto con un poco más de potencia. Y la almohadilla es muy blanda y deformable</td>\n",
       "      <td>n</td>\n",
       "      <td>[1.0, 1.0, 0.0]</td>\n",
       "      <td>[0.13224980467178304, 0.867750195328217]</td>\n",
       "      <td>b</td>\n",
       "      <td>True</td>\n",
       "    </tr>\n",
       "    <tr>\n",
       "      <td>4</td>\n",
       "      <td>MERD MERD PINCH PAL</td>\n",
       "      <td>Una merda Una merda pinchada en un palo ....</td>\n",
       "      <td>m</td>\n",
       "      <td>[0.0, 0.0, 0.0]</td>\n",
       "      <td>[0.4148435387774646, 0.5851564612225354]</td>\n",
       "      <td>n</td>\n",
       "      <td>True</td>\n",
       "    </tr>\n",
       "  </tbody>\n",
       "</table>\n",
       "</div>"
      ],
      "text/plain": [
       "                                                                                                                                         content  \\\n",
       "0  BUEN COLOQU ANDUV PERFECT ERA EXACT NECESIT                                                                                                     \n",
       "1  BUEN MOMENT CUMPL SU FUNCION NO TIEN MISM AMPERAJ ORIGINAL PER IGUAL MANER FUNCION                                                              \n",
       "2  MAS MEN ECONOM PER BAJ CALID ECONOM PER CALID BASTANT BAJ COMPR REGAL TERMIN COMPR OTRO MAZ CART CAMBI PORQU VIEN DENTR TRUQUER ERA BAJ CALID   \n",
       "3  BUEN SER BUEN REGUL VELOC POC MAS POTENCI ALMOHADILL BLAND DEFORM                                                                               \n",
       "4  MERD MERD PINCH PAL                                                                                                                             \n",
       "\n",
       "                                                                                                                                                                                                                                                 raw  \\\n",
       "0  Bueno lo coloque y anduvo perfecto. Era exactamente lo que necesitaba.                                                                                                                                                                              \n",
       "1  Bueno Por el momento el producto cumple con su función, no tiene el mismo amperaje que original, pero de igual manera funciona                                                                                                                      \n",
       "2  Mas o menos, económica pero de baja calidad Es económico, pero la calidad es bastante baja, Lo compramos para regalo y terminamos comprando otro mazo de cartas para cambiarlo porque el que viene dentro de la truquera era de muy baja calidad.   \n",
       "3  Bueno Sería bueno un regulador de velocidades y un producto con un poco más de potencia. Y la almohadilla es muy blanda y deformable                                                                                                                \n",
       "4  Una merda Una merda pinchada en un palo ....                                                                                                                                                                                                        \n",
       "\n",
       "  human_rate           vector                                prediction  \\\n",
       "0  b          [1.0, 0.0, 0.0]  [0.131961893911151, 0.8680381060888491]    \n",
       "1  b          [1.0, 5.0, 6.0]  [0.5521134734648843, 0.4478865265351156]   \n",
       "2  n          [6.0, 2.0, 6.0]  [0.9198430277770353, 0.080156972222965]    \n",
       "3  n          [1.0, 1.0, 0.0]  [0.13224980467178304, 0.867750195328217]   \n",
       "4  m          [0.0, 0.0, 0.0]  [0.4148435387774646, 0.5851564612225354]   \n",
       "\n",
       "  machine_rate  failed  \n",
       "0  b            False   \n",
       "1  n            True    \n",
       "2  m            True    \n",
       "3  b            True    \n",
       "4  n            True    "
      ]
     },
     "execution_count": 8,
     "metadata": {},
     "output_type": "execute_result"
    }
   ],
   "source": [
    "\n",
    "# Hacemos prediccion contra el model\n",
    "# Predecimos la probabilidad, porque vamos a estar dividiendo en 3 categorias\n",
    "y = model.predict_proba(neutral_corpus[\"vector\"].tolist())\n",
    "\n",
    "# Agregamos los resultados al dataframe\n",
    "neutral_corpus[\"prediction\"] = y.tolist()\n",
    "\n",
    "# Convertimos el vector en b/n/m\n",
    "neutral_corpus[\"machine_rate\"] = neutral_corpus[\"prediction\"].apply(to_rate)\n",
    "\n",
    "# Vemos cuales fallo\n",
    "neutral_corpus[\"failed\"] = neutral_corpus[\"human_rate\"] != neutral_corpus[\"machine_rate\"]\n",
    "neutral_corpus.head()"
   ]
  },
  {
   "cell_type": "code",
   "execution_count": 9,
   "metadata": {},
   "outputs": [],
   "source": [
    "\n",
    "# Separamos en 3 categorias\n",
    "corpus_b = neutral_corpus[neutral_corpus[\"human_rate\"] == \"b\"].copy()\n",
    "corpus_n = neutral_corpus[neutral_corpus[\"human_rate\"] == \"n\"].copy()\n",
    "corpus_m = neutral_corpus[neutral_corpus[\"human_rate\"] == \"m\"].copy()"
   ]
  },
  {
   "cell_type": "code",
   "execution_count": 10,
   "metadata": {},
   "outputs": [
    {
     "name": "stdout",
     "output_type": "stream",
     "text": [
      "[El ratio de failed/total de la categoria neutro-bueno es: 0.24190064794816415]\n",
      "[El ratio de failed/total de la categoria neutro-neutro es: 0.7906976744186046]\n",
      "[El ratio de failed/total de la categoria neutro-malo es: 0.3422818791946309]\n"
     ]
    }
   ],
   "source": [
    "# Contamos el acc de cada cate\n",
    "\n",
    "corpus_b_count = corpus_b[\"failed\"].value_counts(normalize=True)\n",
    "corpus_n_count = corpus_n[\"failed\"].value_counts(normalize=True)\n",
    "corpus_m_count = corpus_m[\"failed\"].value_counts(normalize=True)\n",
    "\n",
    "log(\"[El ratio de failed/total de la categoria neutro-bueno es: \" + str(corpus_b_count[True]) + \"]\")\n",
    "log(\"[El ratio de failed/total de la categoria neutro-neutro es: \" + str(corpus_n_count[True]) + \"]\")\n",
    "log(\"[El ratio de failed/total de la categoria neutro-malo es: \" + str(corpus_m_count[True]) + \"]\")"
   ]
  },
  {
   "cell_type": "code",
   "execution_count": 11,
   "metadata": {},
   "outputs": [
    {
     "data": {
      "text/plain": [
       "Text(0, 0.5, 'Frequency')"
      ]
     },
     "execution_count": 11,
     "metadata": {},
     "output_type": "execute_result"
    },
    {
     "data": {
      "image/png": "[encoded data removed]",
      "text/plain": [
       "<Figure size 576x864 with 3 Axes>"
      ]
     },
     "metadata": {
      "needs_background": "light"
     },
     "output_type": "display_data"
    }
   ],
   "source": [
    "# Histogramas de cada categoria\n",
    "\n",
    "hist_data_b = corpus_b[\"prediction\"].map(lambda x: x[1])\n",
    "hist_data_n = corpus_n[\"prediction\"].map(lambda x: x[1])\n",
    "hist_data_m = corpus_m[\"prediction\"].map(lambda x: x[1])\n",
    "\n",
    "fig = plt.figure(figsize=(8, 12))\n",
    "fig.suptitle(\"Histograma de las categorias (SVM)\")\n",
    "ax1 = fig.add_subplot(3, 1, 1)\n",
    "ax2 = fig.add_subplot(3, 1, 2)\n",
    "ax3 = fig.add_subplot(3, 1, 3)\n",
    "\n",
    "n, bins, patches = ax1.hist(hist_data_b, color='green')\n",
    "ax1.set_title(\"Neutral-Bueno\", y=0.8)\n",
    "ax1.set_xlabel('Componente positivo del vector de prediccion')\n",
    "ax1.set_ylabel('Frequency')\n",
    "\n",
    "n, bins, patches = ax2.hist(hist_data_n, color='yellow')\n",
    "ax2.set_title(\"Neutral-Neutral\", y=0.8)\n",
    "ax2.set_xlabel('Componente positivo del vector de prediccion')\n",
    "ax2.set_ylabel('Frequency')\n",
    "\n",
    "n, bins, patches = ax3.hist(hist_data_m, color='red')\n",
    "ax3.set_title(\"Neutral-Malo\", y=0.8)\n",
    "ax3.set_xlabel('Componente positivo del vector de prediccion')\n",
    "ax3.set_ylabel('Frequency')\n",
    "\n",
    "\n",
    "#fig.savefig('./graphs/neutral_histogram_SVM.png')"
   ]
  },
  {
   "cell_type": "code",
   "execution_count": 23,
   "metadata": {},
   "outputs": [
    {
     "data": {
      "text/plain": [
       "<matplotlib.axes._subplots.AxesSubplot at 0x11a4fded0>"
      ]
     },
     "execution_count": 23,
     "metadata": {},
     "output_type": "execute_result"
    },
    {
     "data": {
      "image/png": "[encoded data removed]",
      "text/plain": [
       "<Figure size 432x288 with 1 Axes>"
      ]
     },
     "metadata": {
      "needs_background": "light"
     },
     "output_type": "display_data"
    }
   ],
   "source": [
    "sns.distplot(hist_data_b, bins=20)"
   ]
  },
  {
   "cell_type": "code",
   "execution_count": null,
   "metadata": {},
   "outputs": [],
   "source": []
  }
 ],
 "metadata": {
  "kernelspec": {
   "display_name": "Python 3",
   "language": "python",
   "name": "python3"
  },
  "language_info": {
   "codemirror_mode": {
    "name": "ipython",
    "version": 3
   },
   "file_extension": ".py",
   "mimetype": "text/x-python",
   "name": "python",
   "nbconvert_exporter": "python",
   "pygments_lexer": "ipython3",
   "version": "3.7.4"
  }
 },
 "nbformat": 4,
 "nbformat_minor": 4
}
