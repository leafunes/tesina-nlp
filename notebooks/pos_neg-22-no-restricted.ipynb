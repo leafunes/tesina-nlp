{
 "cells": [
  {
   "cell_type": "code",
   "execution_count": 42,
   "metadata": {},
   "outputs": [],
   "source": [
    "import sys\n",
    "sys.path.append('../src')\n",
    "from logger import log, debug\n",
    "from cleaner import clean_corpus_basic_human\n",
    "from reader import read_files\n",
    "from lstm_utils import get_tokenizer, get_best_tokens_dummy\n",
    "\n",
    "from sklearn.utils import shuffle\n",
    "\n",
    "from keras.layers import Dense, LSTM\n",
    "from keras.models import Model, Sequential, load_model\n",
    "\n",
    "import numpy as np\n",
    "import matplotlib.pyplot as plt\n",
    "import pandas as pd\n",
    "import scipy.stats\n",
    "\n",
    "\n"
   ]
  },
  {
   "cell_type": "code",
   "execution_count": 43,
   "metadata": {},
   "outputs": [],
   "source": [
    "# -------------- Hiperparametros -----------------\n",
    "\n",
    "vector_size = 8\n",
    "each_q = 128\n",
    "batch_size = 2000\n",
    "epoch = 256\n",
    "min_lenght, max_length = 4, 8\n",
    "train_to_test = 0.8"
   ]
  },
  {
   "cell_type": "code",
   "execution_count": 44,
   "metadata": {},
   "outputs": [
    {
     "name": "stdout",
     "output_type": "stream",
     "text": [
      "[Usando cleaner basico para samples clasificados por humanos]\n",
      "[Limpiando el corpus clasificado por humanos...]\n",
      "[Usando 8 threads ...]\n",
      "[Usando cleaner basico para samples clasificados por humanos]\n",
      "[Limpiando el corpus clasificado por humanos...]\n",
      "[Usando 8 threads ...]\n",
      "[Usando cleaner basico para samples clasificados por humanos]\n",
      "[Limpiando el corpus clasificado por humanos...]\n",
      "[Usando 8 threads ...]\n",
      "[Usando cleaner basico para samples clasificados por humanos]\n",
      "[Limpiando el corpus clasificado por humanos...]\n",
      "[Usando 8 threads ...]\n",
      "[Usando cleaner basico para samples clasificados por humanos]\n",
      "[Limpiando el corpus clasificado por humanos...]\n",
      "[Usando 8 threads ...]\n",
      "[Usando cleaner basico para samples clasificados por humanos]\n",
      "[Limpiando el corpus clasificado por humanos...]\n",
      "[Usando 8 threads ...]\n",
      "[Usando cleaner basico para samples clasificados por humanos]\n",
      "[Limpiando el corpus clasificado por humanos...]\n",
      "[Usando 8 threads ...]\n",
      "[Usando cleaner basico para samples clasificados por humanos]\n",
      "[Limpiando el corpus clasificado por humanos...]\n",
      "[Usando 8 threads ...]\n",
      "[Usando cleaner basico para samples clasificados por humanos]\n",
      "[Limpiando el corpus clasificado por humanos...]\n",
      "[Usando 8 threads ...]\n",
      "[Usando cleaner basico para samples clasificados por humanos]\n",
      "[Limpiando el corpus clasificado por humanos...]\n",
      "[Usando 8 threads ...]\n",
      "[El corpus tiene 1000 rows]\n"
     ]
    },
    {
     "data": {
      "text/html": [
       "<div>\n",
       "<style scoped>\n",
       "    .dataframe tbody tr th:only-of-type {\n",
       "        vertical-align: middle;\n",
       "    }\n",
       "\n",
       "    .dataframe tbody tr th {\n",
       "        vertical-align: top;\n",
       "    }\n",
       "\n",
       "    .dataframe thead th {\n",
       "        text-align: right;\n",
       "    }\n",
       "</style>\n",
       "<table border=\"1\" class=\"dataframe\">\n",
       "  <thead>\n",
       "    <tr style=\"text-align: right;\">\n",
       "      <th></th>\n",
       "      <th>content</th>\n",
       "      <th>sentiment</th>\n",
       "      <th>raw</th>\n",
       "      <th>rate</th>\n",
       "      <th>human_rate</th>\n",
       "    </tr>\n",
       "  </thead>\n",
       "  <tbody>\n",
       "    <tr>\n",
       "      <td>0</td>\n",
       "      <td>PROLIJ DESPACH LIND BICI BUEN RELACION PRECI CALID</td>\n",
       "      <td>[0, 1]</td>\n",
       "      <td>Muy prolijos con el despacho Muy linda bici, buena relación entre precio y calidad</td>\n",
       "      <td>positive</td>\n",
       "      <td>positive</td>\n",
       "    </tr>\n",
       "    <tr>\n",
       "      <td>1</td>\n",
       "      <td>MEJOR VAS TERMIC VAS ESTA TERRIBL CUMPL TOTAL ESPECT MEJOR</td>\n",
       "      <td>[0, 1]</td>\n",
       "      <td>Uno de los mejores vasos termicos!!! El vaso está terrible. Cumple totalmente con las espectativas. Es uno de los mejores.</td>\n",
       "      <td>positive</td>\n",
       "      <td>positive</td>\n",
       "    </tr>\n",
       "    <tr>\n",
       "      <td>2</td>\n",
       "      <td>BUEN COLOR TAMAÑ ESTAN BIEN</td>\n",
       "      <td>[0, 1]</td>\n",
       "      <td>muy bueno El color y tamaño están muy bien</td>\n",
       "      <td>positive</td>\n",
       "      <td>positive</td>\n",
       "    </tr>\n",
       "    <tr>\n",
       "      <td>3</td>\n",
       "      <td>MAL FALT POTENCI VERD NO RECOM DEJ CARG VERD NAD POTENCI ATORNILL FUE DESPACH COM CORRESPOND TIEMP FORM AHI NO HAY QUEJ</td>\n",
       "      <td>[0, 1]</td>\n",
       "      <td>Malo Faltó de potencia la verdad no la recomiendo, la dejé cargando y la verdad nada 0 potencia para atornillar, el producto fue despachado como corresponde en tiempo y forma ahí no hay quejas!!!</td>\n",
       "      <td>negative</td>\n",
       "      <td>negative</td>\n",
       "    </tr>\n",
       "    <tr>\n",
       "      <td>4</td>\n",
       "      <td>MALISSIM MALISSIM ENCASTR PIL MAL NO FUNCION DESILUCION NO RECOM NAD</td>\n",
       "      <td>[0, 1]</td>\n",
       "      <td>malissimo el producto. El producto es malissimo. desde el encastre de las pilas es malo y no funciona .    una desilucion el producto. NO lo recomiendo para nada.</td>\n",
       "      <td>negative</td>\n",
       "      <td>negative</td>\n",
       "    </tr>\n",
       "  </tbody>\n",
       "</table>\n",
       "</div>"
      ],
      "text/plain": [
       "                                                                                                                   content  \\\n",
       "0  PROLIJ DESPACH LIND BICI BUEN RELACION PRECI CALID                                                                        \n",
       "1  MEJOR VAS TERMIC VAS ESTA TERRIBL CUMPL TOTAL ESPECT MEJOR                                                                \n",
       "2  BUEN COLOR TAMAÑ ESTAN BIEN                                                                                               \n",
       "3  MAL FALT POTENCI VERD NO RECOM DEJ CARG VERD NAD POTENCI ATORNILL FUE DESPACH COM CORRESPOND TIEMP FORM AHI NO HAY QUEJ   \n",
       "4  MALISSIM MALISSIM ENCASTR PIL MAL NO FUNCION DESILUCION NO RECOM NAD                                                      \n",
       "\n",
       "  sentiment  \\\n",
       "0  [0, 1]     \n",
       "1  [0, 1]     \n",
       "2  [0, 1]     \n",
       "3  [0, 1]     \n",
       "4  [0, 1]     \n",
       "\n",
       "                                                                                                                                                                                                   raw  \\\n",
       "0  Muy prolijos con el despacho Muy linda bici, buena relación entre precio y calidad                                                                                                                    \n",
       "1  Uno de los mejores vasos termicos!!! El vaso está terrible. Cumple totalmente con las espectativas. Es uno de los mejores.                                                                            \n",
       "2  muy bueno El color y tamaño están muy bien                                                                                                                                                            \n",
       "3  Malo Faltó de potencia la verdad no la recomiendo, la dejé cargando y la verdad nada 0 potencia para atornillar, el producto fue despachado como corresponde en tiempo y forma ahí no hay quejas!!!   \n",
       "4  malissimo el producto. El producto es malissimo. desde el encastre de las pilas es malo y no funciona .    una desilucion el producto. NO lo recomiendo para nada.                                    \n",
       "\n",
       "       rate human_rate  \n",
       "0  positive  positive   \n",
       "1  positive  positive   \n",
       "2  positive  positive   \n",
       "3  negative  negative   \n",
       "4  negative  negative   "
      ]
     },
     "execution_count": 44,
     "metadata": {},
     "output_type": "execute_result"
    }
   ],
   "source": [
    "human_corpus = pd.DataFrame()\n",
    "count_failed = []\n",
    "\n",
    "for i in range(10):\n",
    "    # Leemos los archivos\n",
    "    corpus_raw = pd.read_csv(\"./samples/human/pos_neg_\" + str(i + 1) + \".csv\")\n",
    "    corpus_raw[\"failed\"] = corpus_raw[\"rate\"] != corpus_raw[\"human_rate\"]\n",
    "\n",
    "    # guardamos cuantos fallaron\n",
    "    count_failed.append(len(corpus_raw[corpus_raw[\"failed\"] == True]))\n",
    "    \n",
    "    # Limpiamos el dataframe\n",
    "    human_corpus = human_corpus.append(clean_corpus_basic_human(corpus_raw))\n",
    "\n",
    "# Filtramos por longitud\n",
    "debug(\"[El corpus tiene \" + str(len(human_corpus)) + \" rows]\")\n",
    "\n",
    "#Shuffleamos el corpus\n",
    "human_corpus = shuffle(human_corpus)\n",
    "human_corpus.reset_index(inplace=True, drop=True)\n",
    "\n",
    "\n",
    "pd.set_option('display.max_colwidth', -1)\n",
    "pd.set_option('display.max_rows', 200)\n",
    "\n",
    "human_corpus.head()\n"
   ]
  },
  {
   "cell_type": "code",
   "execution_count": 55,
   "metadata": {},
   "outputs": [
    {
     "name": "stdout",
     "output_type": "stream",
     "text": [
      "[8, 4, 1, 3, 7, 10, 3, 4, 8, 6]\n",
      "[El standard deviation de las muestras failed es: 2.690724809414742]\n",
      "[El mean de las muestras failed es: 5.4]\n",
      "[La probabilidad de que el error esté entre un 3% y un 7% es 0.5377472973487742]\n"
     ]
    }
   ],
   "source": [
    "# Calculamos la posibilidad de que un rate sea failed\n",
    "debug(count_failed)\n",
    "\n",
    "std = np.std(count_failed)\n",
    "mean = np.mean(count_failed)\n",
    "distr = scipy.stats.norm(mean, std)\n",
    "\n",
    "debug(\"[El standard deviation de las muestras failed es: \" + str(std) + \"]\")\n",
    "debug(\"[El mean de las muestras failed es: \" + str(mean) + \"]\")\n",
    "debug(\"[La probabilidad de que el error esté entre un 3% y un 7% es \" + \\\n",
    "      str(distr.cdf(7) - distr.cdf(3)) + \\\n",
    "      \"]\")\n",
    "      "
   ]
  },
  {
   "cell_type": "code",
   "execution_count": 46,
   "metadata": {},
   "outputs": [
    {
     "name": "stdout",
     "output_type": "stream",
     "text": [
      "[Vectorizando corpus... ]\n"
     ]
    }
   ],
   "source": [
    "# Seleccionamos los mejores tokens\n",
    "best_tokens = pd.read_pickle(\"best_tokens.bin\")\n",
    "\n",
    "\n",
    "max_features = best_tokens.size\n",
    "\n",
    "tokenizer = get_tokenizer(best_tokens, vector_size)\n",
    "\n",
    "# Vectorizamos\n",
    "debug(\"[Vectorizando corpus... ]\")\n",
    "human_corpus['vector'] = tokenizer(human_corpus['content'])\n",
    "#del neutral_corpus['content']\n"
   ]
  },
  {
   "cell_type": "code",
   "execution_count": 47,
   "metadata": {},
   "outputs": [],
   "source": [
    "# Extraemos los x\n",
    "x = np.stack(human_corpus[\"vector\"].values)\n",
    "# Cargamos el model\n",
    "model = load_model(\"./model.h5\")\n"
   ]
  },
  {
   "cell_type": "code",
   "execution_count": 48,
   "metadata": {},
   "outputs": [],
   "source": [
    "def to_rate(row):\n",
    "    percentage = row[0]\n",
    "    if(percentage <= 0.5):\n",
    "        return \"negative\"\n",
    "    return \"positive\"\n",
    "\n",
    "def to_percentage(row):\n",
    "    percentage = row[0]\n",
    "    return '%.3f'%(row[0] * 100) + \"%\"\n",
    "    "
   ]
  },
  {
   "cell_type": "code",
   "execution_count": 49,
   "metadata": {},
   "outputs": [],
   "source": [
    "# Hacemos prediccion contra el model\n",
    "y = model.predict(x, batch_size=batch_size)\n",
    "\n",
    "#5.7962010e-05, 9.9994206e-01\n",
    "human_corpus[\"prediction\"] = y.tolist()\n",
    "human_corpus[\"machine_rate\"] = human_corpus[\"prediction\"].apply(to_rate)\n"
   ]
  },
  {
   "cell_type": "code",
   "execution_count": 51,
   "metadata": {},
   "outputs": [
    {
     "name": "stdout",
     "output_type": "stream",
     "text": [
      "[El accuaracy en el corpus corregido es de: 0.969]\n"
     ]
    }
   ],
   "source": [
    "# Vemos acc del la predicción\n",
    "rates_diff = human_corpus[human_corpus[\"human_rate\"] != human_corpus[\"machine_rate\"]].copy()\n",
    "rates_ok = human_corpus[human_corpus[\"human_rate\"] == human_corpus[\"machine_rate\"]].copy()\n",
    "\n",
    "err = len(rates_diff.index) / len(human_corpus.index)\n",
    "debug(\"[El accuaracy en el corpus corregido es de: \" + str(1 - err) + \"]\")\n"
   ]
  },
  {
   "cell_type": "code",
   "execution_count": null,
   "metadata": {},
   "outputs": [],
   "source": []
  }
 ],
 "metadata": {
  "kernelspec": {
   "display_name": "Python 3",
   "language": "python",
   "name": "python3"
  },
  "language_info": {
   "codemirror_mode": {
    "name": "ipython",
    "version": 3
   },
   "file_extension": ".py",
   "mimetype": "text/x-python",
   "name": "python",
   "nbconvert_exporter": "python",
   "pygments_lexer": "ipython3",
   "version": "3.7.4"
  }
 },
 "nbformat": 4,
 "nbformat_minor": 4
}
