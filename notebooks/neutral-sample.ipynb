{
 "cells": [
  {
   "cell_type": "code",
   "execution_count": 1,
   "metadata": {},
   "outputs": [
    {
     "name": "stderr",
     "output_type": "stream",
     "text": [
      "[nltk_data] Downloading package stopwords to\n",
      "[nltk_data]     /Users/lefunes/nltk_data...\n",
      "[nltk_data]   Package stopwords is already up-to-date!\n",
      "[nltk_data] Downloading package punkt to /Users/lefunes/nltk_data...\n",
      "[nltk_data]   Package punkt is already up-to-date!\n",
      "Using TensorFlow backend.\n"
     ]
    }
   ],
   "source": [
    "import sys\n",
    "sys.path.append('../src')\n",
    "from logger import log, debug\n",
    "from cleaner import clean_corpus_basic, clean_corpus_standford\n",
    "from reader import read_files\n",
    "from lstm_utils import get_tokenizer, get_best_tokens_dummy\n",
    "\n",
    "from sklearn.utils import shuffle\n",
    "\n",
    "from keras.layers import Dense, LSTM\n",
    "from keras.models import Model, Sequential, load_model\n",
    "\n",
    "import numpy as np\n",
    "import matplotlib.pyplot as plt\n",
    "import pandas as pd\n",
    "\n"
   ]
  },
  {
   "cell_type": "code",
   "execution_count": 4,
   "metadata": {},
   "outputs": [
    {
     "name": "stdout",
     "output_type": "stream",
     "text": [
      "[Leyendo archivos en panda...]\n",
      "[Archivos Leidos...]\n",
      "[Usando cleaner basico]\n",
      "[Limpiando el corpus...]\n",
      "[Usando 8 threads ...]\n",
      "[El corpus tiene 5000 rows]\n",
      "[Luego de filtrar el corpus tiene 5000 rows]\n"
     ]
    },
    {
     "data": {
      "text/html": [
       "<div>\n",
       "<style scoped>\n",
       "    .dataframe tbody tr th:only-of-type {\n",
       "        vertical-align: middle;\n",
       "    }\n",
       "\n",
       "    .dataframe tbody tr th {\n",
       "        vertical-align: top;\n",
       "    }\n",
       "\n",
       "    .dataframe thead th {\n",
       "        text-align: right;\n",
       "    }\n",
       "</style>\n",
       "<table border=\"1\" class=\"dataframe\">\n",
       "  <thead>\n",
       "    <tr style=\"text-align: right;\">\n",
       "      <th></th>\n",
       "      <th>content</th>\n",
       "      <th>sentiment</th>\n",
       "      <th>raw</th>\n",
       "      <th>rate</th>\n",
       "    </tr>\n",
       "  </thead>\n",
       "  <tbody>\n",
       "    <tr>\n",
       "      <td>0</td>\n",
       "      <td>CASI RESPALD PERSON 17M ALTUR</td>\n",
       "      <td>[0, 1]</td>\n",
       "      <td>Casi Es muy bajo el respaldo para una persona de 1,7m de altura</td>\n",
       "      <td>negative</td>\n",
       "    </tr>\n",
       "    <tr>\n",
       "      <td>1</td>\n",
       "      <td>BIEN LLEG BIEN PER PROPAGAND PENS SER MEJOR</td>\n",
       "      <td>[0, 1]</td>\n",
       "      <td>Bien Llegó bien, pero por las propagandas pensé que sería mejor.</td>\n",
       "      <td>negative</td>\n",
       "    </tr>\n",
       "    <tr>\n",
       "      <td>2</td>\n",
       "      <td>DUR TENG PERRIT PEQUEÑ BOCADIRT POLL RESULT POC DUR ESO RECHAZ</td>\n",
       "      <td>[0, 1]</td>\n",
       "      <td>DUROS Tengo un perrito pequeño y los bocadirtos de pollo le resultan un poco duro, por eso los rechaza</td>\n",
       "      <td>negative</td>\n",
       "    </tr>\n",
       "    <tr>\n",
       "      <td>3</td>\n",
       "      <td>OPTIM TOD OPTIM LLEG COM HABI ACORD</td>\n",
       "      <td>[0, 1]</td>\n",
       "      <td>Optimo Todo optimo. Llego como se habia acordado</td>\n",
       "      <td>negative</td>\n",
       "    </tr>\n",
       "    <tr>\n",
       "      <td>4</td>\n",
       "      <td>COM SAL PAS NO ORIGINAL ALTERN PRECI MAS CAR ORIGINAL</td>\n",
       "      <td>[0, 1]</td>\n",
       "      <td>como para salir del paso. No es el producto original, es alternativo y el precio es mas caro que el original.</td>\n",
       "      <td>negative</td>\n",
       "    </tr>\n",
       "  </tbody>\n",
       "</table>\n",
       "</div>"
      ],
      "text/plain": [
       "                                                          content sentiment  \\\n",
       "0  CASI RESPALD PERSON 17M ALTUR                                   [0, 1]     \n",
       "1  BIEN LLEG BIEN PER PROPAGAND PENS SER MEJOR                     [0, 1]     \n",
       "2  DUR TENG PERRIT PEQUEÑ BOCADIRT POLL RESULT POC DUR ESO RECHAZ  [0, 1]     \n",
       "3  OPTIM TOD OPTIM LLEG COM HABI ACORD                             [0, 1]     \n",
       "4  COM SAL PAS NO ORIGINAL ALTERN PRECI MAS CAR ORIGINAL           [0, 1]     \n",
       "\n",
       "                                                                                                             raw  \\\n",
       "0  Casi Es muy bajo el respaldo para una persona de 1,7m de altura                                                 \n",
       "1  Bien Llegó bien, pero por las propagandas pensé que sería mejor.                                                \n",
       "2  DUROS Tengo un perrito pequeño y los bocadirtos de pollo le resultan un poco duro, por eso los rechaza          \n",
       "3  Optimo Todo optimo. Llego como se habia acordado                                                                \n",
       "4  como para salir del paso. No es el producto original, es alternativo y el precio es mas caro que el original.   \n",
       "\n",
       "       rate  \n",
       "0  negative  \n",
       "1  negative  \n",
       "2  negative  \n",
       "3  negative  \n",
       "4  negative  "
      ]
     },
     "execution_count": 4,
     "metadata": {},
     "output_type": "execute_result"
    }
   ],
   "source": [
    "# Leemos los archivos\n",
    "neutral_corpus = clean_corpus_basic(read_files(\"../dataset/\", [\"neutral\"]))\n",
    "\n",
    "# Filtramos por longitud\n",
    "debug(\"[El corpus tiene \" + str(len(neutral_corpus)) + \" rows]\")\n",
    "\n",
    "#corpus[\"length\"] = corpus[\"content\"].map(lambda x: len(x.split(\" \")))\n",
    "#corpus = corpus[(corpus[\"length\"] >= min_lenght) & (corpus[\"length\"] <= max_length)]\n",
    "\n",
    "debug(\"[Luego de filtrar el corpus tiene \" + str(len(neutral_corpus)) + \" rows]\")\n",
    "\n",
    "#Shuffleamos el corpus\n",
    "neutral_corpus = shuffle(neutral_corpus)\n",
    "neutral_corpus.reset_index(inplace=True, drop=True)\n",
    "neutral_corpus.head()\n",
    "\n"
   ]
  },
  {
   "cell_type": "code",
   "execution_count": 5,
   "metadata": {},
   "outputs": [],
   "source": [
    "del neutral_corpus[\"content\"]\n",
    "del neutral_corpus[\"sentiment\"]\n",
    "del neutral_corpus[\"rate\"]"
   ]
  },
  {
   "cell_type": "code",
   "execution_count": 29,
   "metadata": {},
   "outputs": [],
   "source": [
    "neutral_ivan_csv = neutral_corpus.sample(500).reset_index()[\"raw\"]\n",
    "neutral_lean_csv = neutral_corpus.sample(500).reset_index()[\"raw\"]"
   ]
  },
  {
   "cell_type": "code",
   "execution_count": 30,
   "metadata": {},
   "outputs": [
    {
     "data": {
      "text/plain": [
       "0      Buena relación precio-calidad Buen producto a buen precio. Cumple a un precio bajo. Le sugeriría al vendedor/fabricante de la pieza que le agregue un buje para la mecha de 5mm para hacer mas precisa la perforacion y evitar el desgaste. Un buje calzaria perfecto porque tiene lugar y no encarecería significativamente el costo, protegiendo la pieza que inevitablemente se desgastará con el uso. Por ello califico 3/5 estrellas. Si tuviera ese buje le subiría 1 estrella mas sin dudas.\n",
       "1      Bueno muy bueno acorde a su valor anda bien                                                                                                                                                                                                                                                                                                                                                                                                                                                        \n",
       "2      Bueno El pack es bueno, pero me imaginaba los juegos un poco más grandes                                                                                                                                                                                                                                                                                                                                                                                                                           \n",
       "3      Bueno pedi mas grande de lo que necesitaba pero bueno los chicos crecen asi que no hay problema                                                                                                                                                                                                                                                                                                                                                                                                    \n",
       "4      Buena. Linda maquina. Un poco complicado el armado. Al momento del uso, el sistema que sostiene las ruedas es inservible. 1 solo uso y ya perdi 2 tuercas y 4 arandelas, las ruedas se salen solas. Asi que voy a tener que gastar en comprar otro tipo de bulon con chabeta. En cuanto al motor, potente, un excelente corte.                                                                                                                                                                     \n",
       "                                                                                                                                                                    ...                                                                                                                                                                                                                                                                                                                                   \n",
       "495    No ajusta lo esperado En realidad no es lo que esperaba,no es lo suficientemente elastizada.mi marido no quedó conforme. Cumple la función de una camiseta común.                                                                                                                                                                                                                                                                                                                                  \n",
       "496    Bueno hay que dar si o si dos manos sino no cubre.                                                                                                                                                                                                                                                                                                                                                                                                                                                 \n",
       "497    Bueno Muy bueno!! Salvo que la respuesta táctil no es rápida                                                                                                                                                                                                                                                                                                                                                                                                                                       \n",
       "498    Bueno NO RECIBI EL ARTICULO CORRECTO, ME LLEGO EQUIVOCADO ASIQUE LO DEVOLVI.                                                                                                                                                                                                                                                                                                                                                                                                                       \n",
       "499    Regular El forro de cuero está bueno, el mate de calabaza tambien esta bueno... pero la calidad de la yerbera, azucarera, termo y bolso son malas...                                                                                                                                                                                                                                                                                                                                               \n",
       "Name: raw, Length: 500, dtype: object"
      ]
     },
     "execution_count": 30,
     "metadata": {},
     "output_type": "execute_result"
    }
   ],
   "source": [
    "neutral_ivan_csv"
   ]
  },
  {
   "cell_type": "code",
   "execution_count": 32,
   "metadata": {},
   "outputs": [],
   "source": [
    "neutral_ivan_csv.to_csv(\"neutral_ivan_csv.csv\", header=[\"raw\"], index=False)\n",
    "neutral_lean_csv.to_csv(\"neutral_lean_csv.csv\", header=[\"raw\"], index=False)"
   ]
  },
  {
   "cell_type": "code",
   "execution_count": null,
   "metadata": {},
   "outputs": [],
   "source": []
  }
 ],
 "metadata": {
  "kernelspec": {
   "display_name": "Python 3",
   "language": "python",
   "name": "python3"
  },
  "language_info": {
   "codemirror_mode": {
    "name": "ipython",
    "version": 3
   },
   "file_extension": ".py",
   "mimetype": "text/x-python",
   "name": "python",
   "nbconvert_exporter": "python",
   "pygments_lexer": "ipython3",
   "version": "3.7.4"
  }
 },
 "nbformat": 4,
 "nbformat_minor": 4
}
